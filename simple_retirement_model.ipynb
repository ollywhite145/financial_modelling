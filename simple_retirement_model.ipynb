{
 "cells": [
  {
   "cell_type": "code",
   "execution_count": 34,
   "id": "305c73d5-a570-4c17-a800-af82f92fc0a3",
   "metadata": {},
   "outputs": [],
   "source": [
    "import numpy_financial as npf\n",
    "import numpy as np"
   ]
  },
  {
   "cell_type": "markdown",
   "id": "b07c3f64-d8dc-4745-9e9f-0a8005901198",
   "metadata": {},
   "source": [
    "this is a markdown cell where text is nice and sexy "
   ]
  },
  {
   "cell_type": "code",
   "execution_count": 35,
   "id": "a3fb7a7a-b0a5-492b-8990-513e2e225bb9",
   "metadata": {},
   "outputs": [],
   "source": [
    "### hash keys for comments \n",
    "\n",
    "salary = 40000\n",
    "savings_rate = 0.25\n",
    "investment_rate = 0.05\n",
    "desired_cash = 1500000"
   ]
  },
  {
   "cell_type": "markdown",
   "id": "fc5a540c-3977-4d7d-b33f-c09e598d5e1c",
   "metadata": {},
   "source": [
    "### determining cash saved"
   ]
  },
  {
   "cell_type": "code",
   "execution_count": 36,
   "id": "cae349bc-5ff5-42b9-96df-6ee327259430",
   "metadata": {},
   "outputs": [
    {
     "data": {
      "text/plain": [
       "10000.0"
      ]
     },
     "execution_count": 36,
     "metadata": {},
     "output_type": "execute_result"
    }
   ],
   "source": [
    "annual_cash = salary * savings_rate\n",
    "annual_cash"
   ]
  },
  {
   "cell_type": "markdown",
   "id": "367b2ef9-7794-4468-bcbf-e79dd84120f1",
   "metadata": {},
   "source": [
    "### Years to Retirement "
   ]
  },
  {
   "cell_type": "code",
   "execution_count": 37,
   "id": "423ecbfc-a0b1-47cf-8d5f-b26af296912e",
   "metadata": {},
   "outputs": [],
   "source": [
    "years_to_retirement = npf.nper(investment_rate, -annual_cash, 0, desired_cash)  ###"
   ]
  },
  {
   "cell_type": "code",
   "execution_count": 38,
   "id": "c1076311-ddc9-4ccd-96cb-f995bb163d77",
   "metadata": {},
   "outputs": [
    {
     "name": "stdout",
     "output_type": "stream",
     "text": [
      "Martha has 43.86265551524957 years to retirement\n"
     ]
    }
   ],
   "source": [
    "print('Martha has', years_to_retirement, 'years to retirement')"
   ]
  },
  {
   "cell_type": "markdown",
   "id": "48bbd369-7d9a-4941-9be8-0d2e51483877",
   "metadata": {},
   "source": [
    "### Multiple Interest rates"
   ]
  },
  {
   "cell_type": "code",
   "execution_count": 39,
   "id": "5e84f038-457b-420e-bdf6-26342619f566",
   "metadata": {},
   "outputs": [
    {
     "name": "stdout",
     "output_type": "stream",
     "text": [
      "Martha has 43.86265551524957 years to retirement if she has a 5.0 % return\n",
      "Martha has 39.51653063577151 years to retirement if she has a 6.0 % return\n",
      "Martha has 36.09807601040741 years to retirement if she has a 7.000000000000001 % return\n"
     ]
    }
   ],
   "source": [
    "investment_rates = [0.05, 0.06, 0.07] \n",
    "\n",
    "for i in investment_rates:\n",
    "    years_to_retirement = npf.nper(i, -annual_cash, 0, desired_cash)\n",
    "    print('Martha has', years_to_retirement, \n",
    "          'years to retirement if she has a', i*100,'% return')"
   ]
  },
  {
   "cell_type": "markdown",
   "id": "f441a322-782f-4486-b7f0-8e756f3e9299",
   "metadata": {},
   "source": [
    "### Multiple savings rates and multiple interest rates"
   ]
  },
  {
   "cell_type": "code",
   "execution_count": 40,
   "id": "441ee930-f31a-4520-8313-1147d16570eb",
   "metadata": {},
   "outputs": [
    {
     "name": "stdout",
     "output_type": "stream",
     "text": [
      "[4000.0, 10000.0, 16000.0]\n"
     ]
    }
   ],
   "source": [
    "savings_rates = [0.1, 0.25, 0.4 ] \n",
    "\n",
    "annual_savings = []\n",
    "for p in savings_rates:\n",
    "    annual_savings.append(salary*p)\n",
    "\n",
    "print(annual_savings)\n",
    "\n"
   ]
  },
  {
   "cell_type": "code",
   "execution_count": 41,
   "id": "853c4cb0-1474-47bf-af6d-3526a4be6567",
   "metadata": {},
   "outputs": [],
   "source": [
    "investment_rates = [0.05, 0.06, 0.07] "
   ]
  },
  {
   "cell_type": "code",
   "execution_count": 42,
   "id": "37f6b88d-4a6f-4570-beb4-088bbc14302d",
   "metadata": {},
   "outputs": [
    {
     "name": "stdout",
     "output_type": "stream",
     "text": [
      "Martha has 61.14251800808927 years to retirement if she has a 5.0 % return and saves 4000.0 every year\n",
      "Martha has 54.17984518318281 years to retirement if she has a 6.0 % return and saves 4000.0 every year\n",
      "Martha has 48.84894386248891 years to retirement if she has a 7.000000000000001 % return and saves 4000.0 every year\n",
      "Martha has 43.86265551524957 years to retirement if she has a 5.0 % return and saves 10000.0 every year\n",
      "Martha has 39.51653063577151 years to retirement if she has a 6.0 % return and saves 10000.0 every year\n",
      "Martha has 36.09807601040741 years to retirement if she has a 7.000000000000001 % return and saves 10000.0 every year\n",
      "Martha has 35.62748381498843 years to retirement if she has a 5.0 % return and saves 16000.0 every year\n",
      "Martha has 32.450417087775506 years to retirement if she has a 6.0 % return and saves 16000.0 every year\n",
      "Martha has 29.90307771429954 years to retirement if she has a 7.000000000000001 % return and saves 16000.0 every year\n"
     ]
    }
   ],
   "source": [
    "for i in annual_savings:\n",
    "    for j in investment_rates:\n",
    "        years_to_retirement = npf.nper(j, -i, 0, desired_cash)\n",
    "        print('Martha has', years_to_retirement, \n",
    "          'years to retirement if she has a', j*100,'% return and saves',i,'every year')"
   ]
  },
  {
   "cell_type": "code",
   "execution_count": null,
   "id": "08ff8343-fc28-4700-a0dd-6381d341700d",
   "metadata": {},
   "outputs": [],
   "source": []
  }
 ],
 "metadata": {
  "kernelspec": {
   "display_name": "Python 3",
   "language": "python",
   "name": "python3"
  },
  "language_info": {
   "codemirror_mode": {
    "name": "ipython",
    "version": 3
   },
   "file_extension": ".py",
   "mimetype": "text/x-python",
   "name": "python",
   "nbconvert_exporter": "python",
   "pygments_lexer": "ipython3",
   "version": "3.9.5"
  }
 },
 "nbformat": 4,
 "nbformat_minor": 5
}
