{
 "cells": [
  {
   "cell_type": "code",
   "execution_count": 98,
   "id": "be07248f-3971-4e32-8888-cf3da542f26d",
   "metadata": {},
   "outputs": [],
   "source": [
    "import pandas as pd\n",
    "%matplotlib inline"
   ]
  },
  {
   "cell_type": "code",
   "execution_count": 99,
   "id": "88282601-77ec-46b2-b947-55d1b602b4ff",
   "metadata": {},
   "outputs": [],
   "source": [
    "df  = pd.DataFrame()\n",
    "df['Name'] = ['Joe', 'Jim','Mary']"
   ]
  },
  {
   "cell_type": "code",
   "execution_count": 100,
   "id": "bae767a1-5bc4-474e-819f-2c48365d10fe",
   "metadata": {},
   "outputs": [
    {
     "data": {
      "text/html": [
       "<div>\n",
       "<style scoped>\n",
       "    .dataframe tbody tr th:only-of-type {\n",
       "        vertical-align: middle;\n",
       "    }\n",
       "\n",
       "    .dataframe tbody tr th {\n",
       "        vertical-align: top;\n",
       "    }\n",
       "\n",
       "    .dataframe thead th {\n",
       "        text-align: right;\n",
       "    }\n",
       "</style>\n",
       "<table border=\"1\" class=\"dataframe\">\n",
       "  <thead>\n",
       "    <tr style=\"text-align: right;\">\n",
       "      <th></th>\n",
       "      <th>Name</th>\n",
       "      <th>Weight</th>\n",
       "      <th>Reservation Price</th>\n",
       "      <th>Percentage Active</th>\n",
       "    </tr>\n",
       "  </thead>\n",
       "  <tbody>\n",
       "    <tr>\n",
       "      <th>0</th>\n",
       "      <td>Joe</td>\n",
       "      <td>150</td>\n",
       "      <td>10.12</td>\n",
       "      <td>0.6</td>\n",
       "    </tr>\n",
       "    <tr>\n",
       "      <th>1</th>\n",
       "      <td>Jim</td>\n",
       "      <td>200</td>\n",
       "      <td>15.17</td>\n",
       "      <td>0.4</td>\n",
       "    </tr>\n",
       "    <tr>\n",
       "      <th>2</th>\n",
       "      <td>Mary</td>\n",
       "      <td>130</td>\n",
       "      <td>13.25</td>\n",
       "      <td>0.7</td>\n",
       "    </tr>\n",
       "  </tbody>\n",
       "</table>\n",
       "</div>"
      ],
      "text/plain": [
       "   Name  Weight  Reservation Price  Percentage Active\n",
       "0   Joe     150              10.12                0.6\n",
       "1   Jim     200              15.17                0.4\n",
       "2  Mary     130              13.25                0.7"
      ]
     },
     "execution_count": 100,
     "metadata": {},
     "output_type": "execute_result"
    }
   ],
   "source": [
    "df['Weight'] = [150, 200, 130]\n",
    "df['Reservation Price'] = [10.12, 15.17, 13.25]\n",
    "df['Percentage Active'] = [0.6, 0.4, 0.7]\n",
    "df"
   ]
  },
  {
   "cell_type": "markdown",
   "id": "5106650a-4dff-42c2-a579-e65d87d3456b",
   "metadata": {},
   "source": [
    "Alternatively can imput all the data directly as follows:"
   ]
  },
  {
   "cell_type": "code",
   "execution_count": 101,
   "id": "e18354b1-2069-47a7-a3e5-5dfbcff4977b",
   "metadata": {},
   "outputs": [
    {
     "data": {
      "text/html": [
       "<div>\n",
       "<style scoped>\n",
       "    .dataframe tbody tr th:only-of-type {\n",
       "        vertical-align: middle;\n",
       "    }\n",
       "\n",
       "    .dataframe tbody tr th {\n",
       "        vertical-align: top;\n",
       "    }\n",
       "\n",
       "    .dataframe thead th {\n",
       "        text-align: right;\n",
       "    }\n",
       "</style>\n",
       "<table border=\"1\" class=\"dataframe\">\n",
       "  <thead>\n",
       "    <tr style=\"text-align: right;\">\n",
       "      <th></th>\n",
       "      <th>Name</th>\n",
       "      <th>Weight</th>\n",
       "      <th>Reservation Price</th>\n",
       "      <th>Percentage Active</th>\n",
       "    </tr>\n",
       "  </thead>\n",
       "  <tbody>\n",
       "    <tr>\n",
       "      <th>0</th>\n",
       "      <td>Joe</td>\n",
       "      <td>150</td>\n",
       "      <td>10.12</td>\n",
       "      <td>0.6</td>\n",
       "    </tr>\n",
       "    <tr>\n",
       "      <th>1</th>\n",
       "      <td>Jim</td>\n",
       "      <td>200</td>\n",
       "      <td>15.17</td>\n",
       "      <td>0.4</td>\n",
       "    </tr>\n",
       "    <tr>\n",
       "      <th>2</th>\n",
       "      <td>Mary</td>\n",
       "      <td>130</td>\n",
       "      <td>13.25</td>\n",
       "      <td>0.7</td>\n",
       "    </tr>\n",
       "  </tbody>\n",
       "</table>\n",
       "</div>"
      ],
      "text/plain": [
       "   Name  Weight  Reservation Price  Percentage Active\n",
       "0   Joe     150              10.12                0.6\n",
       "1   Jim     200              15.17                0.4\n",
       "2  Mary     130              13.25                0.7"
      ]
     },
     "execution_count": 101,
     "metadata": {},
     "output_type": "execute_result"
    }
   ],
   "source": [
    "df = pd.DataFrame(\n",
    "    [\n",
    "        ('Joe', 150, 10.12, 0.6),\n",
    "        ('Jim', 200, 15.17, 0.4),\n",
    "        ('Mary',130, 13.25, 0.7)\n",
    "    ],\n",
    "    columns = ['Name', 'Weight', 'Reservation Price', 'Percentage Active']\n",
    ")\n",
    "df"
   ]
  },
  {
   "cell_type": "code",
   "execution_count": 102,
   "id": "265a70b4-a37d-44b3-9522-11707535b362",
   "metadata": {},
   "outputs": [
    {
     "data": {
      "text/plain": [
       "0    10.12\n",
       "1    15.17\n",
       "2    13.25\n",
       "Name: Reservation Price, dtype: float64"
      ]
     },
     "execution_count": 102,
     "metadata": {},
     "output_type": "execute_result"
    }
   ],
   "source": [
    "df['Reservation Price'] "
   ]
  },
  {
   "cell_type": "markdown",
   "id": "083d7e64-c09f-4e53-8e8d-c3b3fe2311cc",
   "metadata": {},
   "source": [
    "One column of a DataFrame is called a Series"
   ]
  },
  {
   "cell_type": "code",
   "execution_count": 103,
   "id": "701b06f0-759e-46fc-8a0e-452c868fb83e",
   "metadata": {},
   "outputs": [
    {
     "data": {
      "text/plain": [
       "pandas.core.series.Series"
      ]
     },
     "execution_count": 103,
     "metadata": {},
     "output_type": "execute_result"
    }
   ],
   "source": [
    "type(df['Weight'])"
   ]
  },
  {
   "cell_type": "code",
   "execution_count": 104,
   "id": "f88c518b-cc77-4c10-9a7a-2c6cdc1bee92",
   "metadata": {},
   "outputs": [
    {
     "data": {
      "text/html": [
       "<div>\n",
       "<style scoped>\n",
       "    .dataframe tbody tr th:only-of-type {\n",
       "        vertical-align: middle;\n",
       "    }\n",
       "\n",
       "    .dataframe tbody tr th {\n",
       "        vertical-align: top;\n",
       "    }\n",
       "\n",
       "    .dataframe thead th {\n",
       "        text-align: right;\n",
       "    }\n",
       "</style>\n",
       "<table border=\"1\" class=\"dataframe\">\n",
       "  <thead>\n",
       "    <tr style=\"text-align: right;\">\n",
       "      <th></th>\n",
       "      <th>Reservation Price</th>\n",
       "      <th>Weight</th>\n",
       "    </tr>\n",
       "  </thead>\n",
       "  <tbody>\n",
       "    <tr>\n",
       "      <th>0</th>\n",
       "      <td>10.12</td>\n",
       "      <td>150</td>\n",
       "    </tr>\n",
       "    <tr>\n",
       "      <th>1</th>\n",
       "      <td>15.17</td>\n",
       "      <td>200</td>\n",
       "    </tr>\n",
       "    <tr>\n",
       "      <th>2</th>\n",
       "      <td>13.25</td>\n",
       "      <td>130</td>\n",
       "    </tr>\n",
       "  </tbody>\n",
       "</table>\n",
       "</div>"
      ],
      "text/plain": [
       "   Reservation Price  Weight\n",
       "0              10.12     150\n",
       "1              15.17     200\n",
       "2              13.25     130"
      ]
     },
     "execution_count": 104,
     "metadata": {},
     "output_type": "execute_result"
    }
   ],
   "source": [
    "df[['Reservation Price', 'Weight']]"
   ]
  },
  {
   "cell_type": "code",
   "execution_count": 105,
   "id": "a77e566e-014a-486f-93ea-b95a72a4d8df",
   "metadata": {},
   "outputs": [
    {
     "data": {
      "text/plain": [
       "Name                   Joe\n",
       "Weight                 150\n",
       "Reservation Price    10.12\n",
       "Percentage Active      0.6\n",
       "Name: 0, dtype: object"
      ]
     },
     "execution_count": 105,
     "metadata": {},
     "output_type": "execute_result"
    }
   ],
   "source": [
    "df.iloc[0] \n",
    "### iloc means integer location and lets you select a row \n",
    "###(rows are also series)"
   ]
  },
  {
   "cell_type": "code",
   "execution_count": 106,
   "id": "3f8ec62c-23ce-40e3-bca2-5139334e1027",
   "metadata": {},
   "outputs": [
    {
     "data": {
      "text/plain": [
       "10.12"
      ]
     },
     "execution_count": 106,
     "metadata": {},
     "output_type": "execute_result"
    }
   ],
   "source": [
    "df.loc[0, 'Reservation Price'] # this gives us a specific value"
   ]
  },
  {
   "cell_type": "code",
   "execution_count": 107,
   "id": "7bf2e27a-ff92-477a-88e2-1566549f4db7",
   "metadata": {},
   "outputs": [
    {
     "data": {
      "text/html": [
       "<div>\n",
       "<style scoped>\n",
       "    .dataframe tbody tr th:only-of-type {\n",
       "        vertical-align: middle;\n",
       "    }\n",
       "\n",
       "    .dataframe tbody tr th {\n",
       "        vertical-align: top;\n",
       "    }\n",
       "\n",
       "    .dataframe thead th {\n",
       "        text-align: right;\n",
       "    }\n",
       "</style>\n",
       "<table border=\"1\" class=\"dataframe\">\n",
       "  <thead>\n",
       "    <tr style=\"text-align: right;\">\n",
       "      <th></th>\n",
       "      <th>Name</th>\n",
       "      <th>Weight</th>\n",
       "      <th>Reservation Price</th>\n",
       "      <th>Percentage Active</th>\n",
       "    </tr>\n",
       "  </thead>\n",
       "  <tbody>\n",
       "    <tr>\n",
       "      <th>0</th>\n",
       "      <td>Joe</td>\n",
       "      <td>150</td>\n",
       "      <td>10.12</td>\n",
       "      <td>0.6</td>\n",
       "    </tr>\n",
       "    <tr>\n",
       "      <th>2</th>\n",
       "      <td>Mary</td>\n",
       "      <td>130</td>\n",
       "      <td>13.25</td>\n",
       "      <td>0.7</td>\n",
       "    </tr>\n",
       "  </tbody>\n",
       "</table>\n",
       "</div>"
      ],
      "text/plain": [
       "   Name  Weight  Reservation Price  Percentage Active\n",
       "0   Joe     150              10.12                0.6\n",
       "2  Mary     130              13.25                0.7"
      ]
     },
     "execution_count": 107,
     "metadata": {},
     "output_type": "execute_result"
    }
   ],
   "source": [
    "df[df['Reservation Price'] < 14]"
   ]
  },
  {
   "cell_type": "code",
   "execution_count": 108,
   "id": "38b61e04-64f6-4ed5-ac66-46b9a7f065a8",
   "metadata": {},
   "outputs": [
    {
     "data": {
      "text/html": [
       "<div>\n",
       "<style scoped>\n",
       "    .dataframe tbody tr th:only-of-type {\n",
       "        vertical-align: middle;\n",
       "    }\n",
       "\n",
       "    .dataframe tbody tr th {\n",
       "        vertical-align: top;\n",
       "    }\n",
       "\n",
       "    .dataframe thead th {\n",
       "        text-align: right;\n",
       "    }\n",
       "</style>\n",
       "<table border=\"1\" class=\"dataframe\">\n",
       "  <thead>\n",
       "    <tr style=\"text-align: right;\">\n",
       "      <th></th>\n",
       "      <th>Name</th>\n",
       "      <th>Weight</th>\n",
       "      <th>Reservation Price</th>\n",
       "      <th>Percentage Active</th>\n",
       "    </tr>\n",
       "  </thead>\n",
       "  <tbody>\n",
       "    <tr>\n",
       "      <th>2</th>\n",
       "      <td>Mary</td>\n",
       "      <td>130</td>\n",
       "      <td>13.25</td>\n",
       "      <td>0.7</td>\n",
       "    </tr>\n",
       "  </tbody>\n",
       "</table>\n",
       "</div>"
      ],
      "text/plain": [
       "   Name  Weight  Reservation Price  Percentage Active\n",
       "2  Mary     130              13.25                0.7"
      ]
     },
     "execution_count": 108,
     "metadata": {},
     "output_type": "execute_result"
    }
   ],
   "source": [
    "df[(df['Reservation Price'] < 14) & (df['Percentage Active'] > 0.6)]"
   ]
  },
  {
   "cell_type": "code",
   "execution_count": 109,
   "id": "a3118400-0844-44e7-bab2-4c7ccb1cd740",
   "metadata": {},
   "outputs": [
    {
     "data": {
      "text/html": [
       "<div>\n",
       "<style scoped>\n",
       "    .dataframe tbody tr th:only-of-type {\n",
       "        vertical-align: middle;\n",
       "    }\n",
       "\n",
       "    .dataframe tbody tr th {\n",
       "        vertical-align: top;\n",
       "    }\n",
       "\n",
       "    .dataframe thead th {\n",
       "        text-align: right;\n",
       "    }\n",
       "</style>\n",
       "<table border=\"1\" class=\"dataframe\">\n",
       "  <thead>\n",
       "    <tr style=\"text-align: right;\">\n",
       "      <th></th>\n",
       "      <th>Name</th>\n",
       "      <th>Weight</th>\n",
       "    </tr>\n",
       "  </thead>\n",
       "  <tbody>\n",
       "    <tr>\n",
       "      <th>2</th>\n",
       "      <td>Mary</td>\n",
       "      <td>130</td>\n",
       "    </tr>\n",
       "  </tbody>\n",
       "</table>\n",
       "</div>"
      ],
      "text/plain": [
       "   Name  Weight\n",
       "2  Mary     130"
      ]
     },
     "execution_count": 109,
     "metadata": {},
     "output_type": "execute_result"
    }
   ],
   "source": [
    "df.loc[\n",
    "    (df['Reservation Price'] < 14) & (df['Percentage Active'] > 0.6),\n",
    "    ['Name', 'Weight'] #the columns we want to see\n",
    "]\n"
   ]
  },
  {
   "cell_type": "markdown",
   "id": "f872751e-9361-4999-b52e-4a0b08827d3d",
   "metadata": {},
   "source": [
    "## Can do maths with the columns"
   ]
  },
  {
   "cell_type": "code",
   "execution_count": 110,
   "id": "746c00b4-5bed-4864-a5a1-2ade7dd9fe2d",
   "metadata": {},
   "outputs": [
    {
     "data": {
      "text/plain": [
       "0    6.072\n",
       "1    6.068\n",
       "2    9.275\n",
       "dtype: float64"
      ]
     },
     "execution_count": 110,
     "metadata": {},
     "output_type": "execute_result"
    }
   ],
   "source": [
    "df['Reservation Price'] * df['Percentage Active']"
   ]
  },
  {
   "cell_type": "code",
   "execution_count": 111,
   "id": "4f414a94-0e79-4bc6-b473-c05ee6ce207a",
   "metadata": {},
   "outputs": [
    {
     "data": {
      "text/html": [
       "<div>\n",
       "<style scoped>\n",
       "    .dataframe tbody tr th:only-of-type {\n",
       "        vertical-align: middle;\n",
       "    }\n",
       "\n",
       "    .dataframe tbody tr th {\n",
       "        vertical-align: top;\n",
       "    }\n",
       "\n",
       "    .dataframe thead th {\n",
       "        text-align: right;\n",
       "    }\n",
       "</style>\n",
       "<table border=\"1\" class=\"dataframe\">\n",
       "  <thead>\n",
       "    <tr style=\"text-align: right;\">\n",
       "      <th></th>\n",
       "      <th>Weight</th>\n",
       "      <th>Reservation Price</th>\n",
       "      <th>Percentage Active</th>\n",
       "    </tr>\n",
       "  </thead>\n",
       "  <tbody>\n",
       "    <tr>\n",
       "      <th>count</th>\n",
       "      <td>3.000000</td>\n",
       "      <td>3.000000</td>\n",
       "      <td>3.000000</td>\n",
       "    </tr>\n",
       "    <tr>\n",
       "      <th>mean</th>\n",
       "      <td>160.000000</td>\n",
       "      <td>12.846667</td>\n",
       "      <td>0.566667</td>\n",
       "    </tr>\n",
       "    <tr>\n",
       "      <th>std</th>\n",
       "      <td>36.055513</td>\n",
       "      <td>2.549046</td>\n",
       "      <td>0.152753</td>\n",
       "    </tr>\n",
       "    <tr>\n",
       "      <th>min</th>\n",
       "      <td>130.000000</td>\n",
       "      <td>10.120000</td>\n",
       "      <td>0.400000</td>\n",
       "    </tr>\n",
       "    <tr>\n",
       "      <th>25%</th>\n",
       "      <td>140.000000</td>\n",
       "      <td>11.685000</td>\n",
       "      <td>0.500000</td>\n",
       "    </tr>\n",
       "    <tr>\n",
       "      <th>50%</th>\n",
       "      <td>150.000000</td>\n",
       "      <td>13.250000</td>\n",
       "      <td>0.600000</td>\n",
       "    </tr>\n",
       "    <tr>\n",
       "      <th>75%</th>\n",
       "      <td>175.000000</td>\n",
       "      <td>14.210000</td>\n",
       "      <td>0.650000</td>\n",
       "    </tr>\n",
       "    <tr>\n",
       "      <th>max</th>\n",
       "      <td>200.000000</td>\n",
       "      <td>15.170000</td>\n",
       "      <td>0.700000</td>\n",
       "    </tr>\n",
       "  </tbody>\n",
       "</table>\n",
       "</div>"
      ],
      "text/plain": [
       "           Weight  Reservation Price  Percentage Active\n",
       "count    3.000000           3.000000           3.000000\n",
       "mean   160.000000          12.846667           0.566667\n",
       "std     36.055513           2.549046           0.152753\n",
       "min    130.000000          10.120000           0.400000\n",
       "25%    140.000000          11.685000           0.500000\n",
       "50%    150.000000          13.250000           0.600000\n",
       "75%    175.000000          14.210000           0.650000\n",
       "max    200.000000          15.170000           0.700000"
      ]
     },
     "execution_count": 111,
     "metadata": {},
     "output_type": "execute_result"
    }
   ],
   "source": [
    "df.describe() \n",
    "#an awesome function that gives maths stuff on the numerical columns"
   ]
  },
  {
   "cell_type": "code",
   "execution_count": 112,
   "id": "e447037d-c571-4aa2-b548-d3c21392464e",
   "metadata": {},
   "outputs": [
    {
     "data": {
      "text/plain": [
       "Weight               36.055513\n",
       "Reservation Price     2.549046\n",
       "Percentage Active     0.152753\n",
       "dtype: float64"
      ]
     },
     "execution_count": 112,
     "metadata": {},
     "output_type": "execute_result"
    }
   ],
   "source": [
    "df.std()"
   ]
  },
  {
   "cell_type": "code",
   "execution_count": 113,
   "id": "5e57df32-3158-4c73-8529-f5e50538a03d",
   "metadata": {},
   "outputs": [
    {
     "data": {
      "text/plain": [
       "Weight               160.000000\n",
       "Reservation Price     12.846667\n",
       "Percentage Active      0.566667\n",
       "dtype: float64"
      ]
     },
     "execution_count": 113,
     "metadata": {},
     "output_type": "execute_result"
    }
   ],
   "source": [
    "df.mean()"
   ]
  },
  {
   "cell_type": "code",
   "execution_count": 114,
   "id": "669aad3e-5815-4046-8bc4-43c3fbc5508e",
   "metadata": {},
   "outputs": [
    {
     "data": {
      "text/plain": [
       "Weight               142.000\n",
       "Reservation Price     11.998\n",
       "Percentage Active      0.520\n",
       "Name: 0.3, dtype: float64"
      ]
     },
     "execution_count": 114,
     "metadata": {},
     "output_type": "execute_result"
    }
   ],
   "source": [
    "df.quantile(0.3) #the 30th percentile "
   ]
  },
  {
   "cell_type": "code",
   "execution_count": 115,
   "id": "b6b7ee2d-bd00-47db-afd4-024012905142",
   "metadata": {},
   "outputs": [
    {
     "data": {
      "text/plain": [
       "0    53.573333\n",
       "1    71.856667\n",
       "2    47.983333\n",
       "dtype: float64"
      ]
     },
     "execution_count": 115,
     "metadata": {},
     "output_type": "execute_result"
    }
   ],
   "source": [
    "#to apply accross the rows use 'axis=1'\n",
    "df.mean(axis=1)"
   ]
  },
  {
   "cell_type": "markdown",
   "id": "a887e1c1-69d2-448c-b047-eac8bfa078b7",
   "metadata": {},
   "source": [
    "### We can also apply functions to the data frame"
   ]
  },
  {
   "cell_type": "code",
   "execution_count": 116,
   "id": "79ded770-8329-41e7-8021-ca67b8a7e55d",
   "metadata": {},
   "outputs": [
    {
     "data": {
      "text/html": [
       "<div>\n",
       "<style scoped>\n",
       "    .dataframe tbody tr th:only-of-type {\n",
       "        vertical-align: middle;\n",
       "    }\n",
       "\n",
       "    .dataframe tbody tr th {\n",
       "        vertical-align: top;\n",
       "    }\n",
       "\n",
       "    .dataframe thead th {\n",
       "        text-align: right;\n",
       "    }\n",
       "</style>\n",
       "<table border=\"1\" class=\"dataframe\">\n",
       "  <thead>\n",
       "    <tr style=\"text-align: right;\">\n",
       "      <th></th>\n",
       "      <th>Name</th>\n",
       "      <th>Weight</th>\n",
       "      <th>Reservation Price</th>\n",
       "      <th>Percentage Active</th>\n",
       "    </tr>\n",
       "  </thead>\n",
       "  <tbody>\n",
       "    <tr>\n",
       "      <th>0</th>\n",
       "      <td>JoeJoeJoeJoeJoeJoeJoeJoeJoeJoeJoeJoeJoeJoeJoeJ...</td>\n",
       "      <td>15000</td>\n",
       "      <td>1012.0</td>\n",
       "      <td>60.0</td>\n",
       "    </tr>\n",
       "    <tr>\n",
       "      <th>1</th>\n",
       "      <td>JimJimJimJimJimJimJimJimJimJimJimJimJimJimJimJ...</td>\n",
       "      <td>20000</td>\n",
       "      <td>1517.0</td>\n",
       "      <td>40.0</td>\n",
       "    </tr>\n",
       "    <tr>\n",
       "      <th>2</th>\n",
       "      <td>MaryMaryMaryMaryMaryMaryMaryMaryMaryMaryMaryMa...</td>\n",
       "      <td>13000</td>\n",
       "      <td>1325.0</td>\n",
       "      <td>70.0</td>\n",
       "    </tr>\n",
       "  </tbody>\n",
       "</table>\n",
       "</div>"
      ],
      "text/plain": [
       "                                                Name  Weight  \\\n",
       "0  JoeJoeJoeJoeJoeJoeJoeJoeJoeJoeJoeJoeJoeJoeJoeJ...   15000   \n",
       "1  JimJimJimJimJimJimJimJimJimJimJimJimJimJimJimJ...   20000   \n",
       "2  MaryMaryMaryMaryMaryMaryMaryMaryMaryMaryMaryMa...   13000   \n",
       "\n",
       "   Reservation Price  Percentage Active  \n",
       "0             1012.0               60.0  \n",
       "1             1517.0               40.0  \n",
       "2             1325.0               70.0  "
      ]
     },
     "execution_count": 116,
     "metadata": {},
     "output_type": "execute_result"
    }
   ],
   "source": [
    "def mult_by_100(value):\n",
    "    return value*100\n",
    "\n",
    "df.applymap(mult_by_100)  #applies the function to each cell in the df"
   ]
  },
  {
   "cell_type": "markdown",
   "id": "75916e7b-3c9a-47e1-907d-73fe84d10ca9",
   "metadata": {},
   "source": [
    "## Styling Pandas DataFrames"
   ]
  },
  {
   "cell_type": "code",
   "execution_count": 117,
   "id": "0556a598-00e5-42bd-8cb7-85571d78f41b",
   "metadata": {},
   "outputs": [
    {
     "data": {
      "text/plain": [
       "'$10.12'"
      ]
     },
     "execution_count": 117,
     "metadata": {},
     "output_type": "execute_result"
    }
   ],
   "source": [
    "my_num = 10.12\n",
    "f'${my_num:,.2f}' #this is an f string (the 2f is the number of decimal points)"
   ]
  },
  {
   "cell_type": "code",
   "execution_count": 118,
   "id": "c11dd956-f483-413f-b65a-c32a09cd6564",
   "metadata": {},
   "outputs": [
    {
     "data": {
      "text/html": [
       "<style  type=\"text/css\" >\n",
       "</style><table id=\"T_526de_\" ><thead>    <tr>        <th class=\"blank level0\" ></th>        <th class=\"col_heading level0 col0\" >Name</th>        <th class=\"col_heading level0 col1\" >Weight</th>        <th class=\"col_heading level0 col2\" >Reservation Price</th>        <th class=\"col_heading level0 col3\" >Percentage Active</th>    </tr></thead><tbody>\n",
       "                <tr>\n",
       "                        <th id=\"T_526de_level0_row0\" class=\"row_heading level0 row0\" >0</th>\n",
       "                        <td id=\"T_526de_row0_col0\" class=\"data row0 col0\" >Joe</td>\n",
       "                        <td id=\"T_526de_row0_col1\" class=\"data row0 col1\" >150</td>\n",
       "                        <td id=\"T_526de_row0_col2\" class=\"data row0 col2\" >$10.12</td>\n",
       "                        <td id=\"T_526de_row0_col3\" class=\"data row0 col3\" >0.600000</td>\n",
       "            </tr>\n",
       "            <tr>\n",
       "                        <th id=\"T_526de_level0_row1\" class=\"row_heading level0 row1\" >1</th>\n",
       "                        <td id=\"T_526de_row1_col0\" class=\"data row1 col0\" >Jim</td>\n",
       "                        <td id=\"T_526de_row1_col1\" class=\"data row1 col1\" >200</td>\n",
       "                        <td id=\"T_526de_row1_col2\" class=\"data row1 col2\" >$15.17</td>\n",
       "                        <td id=\"T_526de_row1_col3\" class=\"data row1 col3\" >0.400000</td>\n",
       "            </tr>\n",
       "            <tr>\n",
       "                        <th id=\"T_526de_level0_row2\" class=\"row_heading level0 row2\" >2</th>\n",
       "                        <td id=\"T_526de_row2_col0\" class=\"data row2 col0\" >Mary</td>\n",
       "                        <td id=\"T_526de_row2_col1\" class=\"data row2 col1\" >130</td>\n",
       "                        <td id=\"T_526de_row2_col2\" class=\"data row2 col2\" >$13.25</td>\n",
       "                        <td id=\"T_526de_row2_col3\" class=\"data row2 col3\" >0.700000</td>\n",
       "            </tr>\n",
       "    </tbody></table>"
      ],
      "text/plain": [
       "<pandas.io.formats.style.Styler at 0x7fb259bac910>"
      ]
     },
     "execution_count": 118,
     "metadata": {},
     "output_type": "execute_result"
    }
   ],
   "source": [
    "s  = df.style.format({  #pass a dictionary with column names: format type\n",
    "    'Reservation Price': \"${:,.2f}\"\n",
    "})\n",
    "s"
   ]
  },
  {
   "cell_type": "code",
   "execution_count": 119,
   "id": "c1f25fd8-bf80-44c4-9d5a-55b42c435095",
   "metadata": {},
   "outputs": [
    {
     "data": {
      "text/html": [
       "<style  type=\"text/css\" >\n",
       "</style><table id=\"T_526de_\" ><thead>    <tr>        <th class=\"blank level0\" ></th>        <th class=\"col_heading level0 col0\" >Name</th>        <th class=\"col_heading level0 col1\" >Weight</th>        <th class=\"col_heading level0 col2\" >Reservation Price</th>        <th class=\"col_heading level0 col3\" >Percentage Active</th>    </tr></thead><tbody>\n",
       "                <tr>\n",
       "                        <th id=\"T_526de_level0_row0\" class=\"row_heading level0 row0\" >0</th>\n",
       "                        <td id=\"T_526de_row0_col0\" class=\"data row0 col0\" >Joe</td>\n",
       "                        <td id=\"T_526de_row0_col1\" class=\"data row0 col1\" >150</td>\n",
       "                        <td id=\"T_526de_row0_col2\" class=\"data row0 col2\" >$10.12</td>\n",
       "                        <td id=\"T_526de_row0_col3\" class=\"data row0 col3\" >60%</td>\n",
       "            </tr>\n",
       "            <tr>\n",
       "                        <th id=\"T_526de_level0_row1\" class=\"row_heading level0 row1\" >1</th>\n",
       "                        <td id=\"T_526de_row1_col0\" class=\"data row1 col0\" >Jim</td>\n",
       "                        <td id=\"T_526de_row1_col1\" class=\"data row1 col1\" >200</td>\n",
       "                        <td id=\"T_526de_row1_col2\" class=\"data row1 col2\" >$15.17</td>\n",
       "                        <td id=\"T_526de_row1_col3\" class=\"data row1 col3\" >40%</td>\n",
       "            </tr>\n",
       "            <tr>\n",
       "                        <th id=\"T_526de_level0_row2\" class=\"row_heading level0 row2\" >2</th>\n",
       "                        <td id=\"T_526de_row2_col0\" class=\"data row2 col0\" >Mary</td>\n",
       "                        <td id=\"T_526de_row2_col1\" class=\"data row2 col1\" >130</td>\n",
       "                        <td id=\"T_526de_row2_col2\" class=\"data row2 col2\" >$13.25</td>\n",
       "                        <td id=\"T_526de_row2_col3\" class=\"data row2 col3\" >70%</td>\n",
       "            </tr>\n",
       "    </tbody></table>"
      ],
      "text/plain": [
       "<pandas.io.formats.style.Styler at 0x7fb259bac910>"
      ]
     },
     "execution_count": 119,
     "metadata": {},
     "output_type": "execute_result"
    }
   ],
   "source": [
    "s = s.format({\n",
    "    'Percentage Active' : '{:.0%}'\n",
    "})\n",
    "s"
   ]
  },
  {
   "cell_type": "markdown",
   "id": "f15009b2-6d0a-409e-93af-e6ad49b8a9e8",
   "metadata": {},
   "source": [
    "### Cell formatting"
   ]
  },
  {
   "cell_type": "code",
   "execution_count": 120,
   "id": "73ca5067-cc5e-481f-a04a-1d632581fc25",
   "metadata": {},
   "outputs": [
    {
     "data": {
      "text/html": [
       "<style  type=\"text/css\" >\n",
       "#T_9a319_row0_col0,#T_9a319_row0_col1,#T_9a319_row0_col2,#T_9a319_row0_col3,#T_9a319_row1_col0,#T_9a319_row1_col1,#T_9a319_row1_col2,#T_9a319_row1_col3,#T_9a319_row2_col0,#T_9a319_row2_col1,#T_9a319_row2_col2,#T_9a319_row2_col3{\n",
       "            color:  blue;\n",
       "        }</style><table id=\"T_9a319_\" ><thead>    <tr>        <th class=\"blank level0\" ></th>        <th class=\"col_heading level0 col0\" >Name</th>        <th class=\"col_heading level0 col1\" >Weight</th>        <th class=\"col_heading level0 col2\" >Reservation Price</th>        <th class=\"col_heading level0 col3\" >Percentage Active</th>    </tr></thead><tbody>\n",
       "                <tr>\n",
       "                        <th id=\"T_9a319_level0_row0\" class=\"row_heading level0 row0\" >0</th>\n",
       "                        <td id=\"T_9a319_row0_col0\" class=\"data row0 col0\" >Joe</td>\n",
       "                        <td id=\"T_9a319_row0_col1\" class=\"data row0 col1\" >150</td>\n",
       "                        <td id=\"T_9a319_row0_col2\" class=\"data row0 col2\" >10.120000</td>\n",
       "                        <td id=\"T_9a319_row0_col3\" class=\"data row0 col3\" >0.600000</td>\n",
       "            </tr>\n",
       "            <tr>\n",
       "                        <th id=\"T_9a319_level0_row1\" class=\"row_heading level0 row1\" >1</th>\n",
       "                        <td id=\"T_9a319_row1_col0\" class=\"data row1 col0\" >Jim</td>\n",
       "                        <td id=\"T_9a319_row1_col1\" class=\"data row1 col1\" >200</td>\n",
       "                        <td id=\"T_9a319_row1_col2\" class=\"data row1 col2\" >15.170000</td>\n",
       "                        <td id=\"T_9a319_row1_col3\" class=\"data row1 col3\" >0.400000</td>\n",
       "            </tr>\n",
       "            <tr>\n",
       "                        <th id=\"T_9a319_level0_row2\" class=\"row_heading level0 row2\" >2</th>\n",
       "                        <td id=\"T_9a319_row2_col0\" class=\"data row2 col0\" >Mary</td>\n",
       "                        <td id=\"T_9a319_row2_col1\" class=\"data row2 col1\" >130</td>\n",
       "                        <td id=\"T_9a319_row2_col2\" class=\"data row2 col2\" >13.250000</td>\n",
       "                        <td id=\"T_9a319_row2_col3\" class=\"data row2 col3\" >0.700000</td>\n",
       "            </tr>\n",
       "    </tbody></table>"
      ],
      "text/plain": [
       "<pandas.io.formats.style.Styler at 0x7fb259bac4f0>"
      ]
     },
     "execution_count": 120,
     "metadata": {},
     "output_type": "execute_result"
    }
   ],
   "source": [
    "def set_colour_blue(value):\n",
    "    return 'color: blue'   #can also use HEX values or RGB code\n",
    "\n",
    "df.style.applymap(set_colour_blue)"
   ]
  },
  {
   "cell_type": "code",
   "execution_count": 121,
   "id": "23fe5276-cb45-42e5-9c4c-105dc513aa02",
   "metadata": {},
   "outputs": [
    {
     "data": {
      "text/html": [
       "<style  type=\"text/css\" >\n",
       "#T_9e136_row0_col0,#T_9e136_row0_col1,#T_9e136_row0_col2,#T_9e136_row0_col3,#T_9e136_row1_col0,#T_9e136_row1_col1,#T_9e136_row1_col2,#T_9e136_row1_col3,#T_9e136_row2_col0,#T_9e136_row2_col1,#T_9e136_row2_col2,#T_9e136_row2_col3{\n",
       "            background-color:  lightgreen;\n",
       "        }</style><table id=\"T_9e136_\" ><thead>    <tr>        <th class=\"blank level0\" ></th>        <th class=\"col_heading level0 col0\" >Name</th>        <th class=\"col_heading level0 col1\" >Weight</th>        <th class=\"col_heading level0 col2\" >Reservation Price</th>        <th class=\"col_heading level0 col3\" >Percentage Active</th>    </tr></thead><tbody>\n",
       "                <tr>\n",
       "                        <th id=\"T_9e136_level0_row0\" class=\"row_heading level0 row0\" >0</th>\n",
       "                        <td id=\"T_9e136_row0_col0\" class=\"data row0 col0\" >Joe</td>\n",
       "                        <td id=\"T_9e136_row0_col1\" class=\"data row0 col1\" >150</td>\n",
       "                        <td id=\"T_9e136_row0_col2\" class=\"data row0 col2\" >10.120000</td>\n",
       "                        <td id=\"T_9e136_row0_col3\" class=\"data row0 col3\" >0.600000</td>\n",
       "            </tr>\n",
       "            <tr>\n",
       "                        <th id=\"T_9e136_level0_row1\" class=\"row_heading level0 row1\" >1</th>\n",
       "                        <td id=\"T_9e136_row1_col0\" class=\"data row1 col0\" >Jim</td>\n",
       "                        <td id=\"T_9e136_row1_col1\" class=\"data row1 col1\" >200</td>\n",
       "                        <td id=\"T_9e136_row1_col2\" class=\"data row1 col2\" >15.170000</td>\n",
       "                        <td id=\"T_9e136_row1_col3\" class=\"data row1 col3\" >0.400000</td>\n",
       "            </tr>\n",
       "            <tr>\n",
       "                        <th id=\"T_9e136_level0_row2\" class=\"row_heading level0 row2\" >2</th>\n",
       "                        <td id=\"T_9e136_row2_col0\" class=\"data row2 col0\" >Mary</td>\n",
       "                        <td id=\"T_9e136_row2_col1\" class=\"data row2 col1\" >130</td>\n",
       "                        <td id=\"T_9e136_row2_col2\" class=\"data row2 col2\" >13.250000</td>\n",
       "                        <td id=\"T_9e136_row2_col3\" class=\"data row2 col3\" >0.700000</td>\n",
       "            </tr>\n",
       "    </tbody></table>"
      ],
      "text/plain": [
       "<pandas.io.formats.style.Styler at 0x7fb2706cf0a0>"
      ]
     },
     "execution_count": 121,
     "metadata": {},
     "output_type": "execute_result"
    }
   ],
   "source": [
    "def set_bg_to_green(value):\n",
    "    return 'background-color: lightgreen'\n",
    "\n",
    "df.style.applymap(set_bg_to_green)"
   ]
  },
  {
   "cell_type": "code",
   "execution_count": 122,
   "id": "0e79cd22-7e2b-4d23-99df-cdf8585c77f6",
   "metadata": {},
   "outputs": [
    {
     "data": {
      "text/html": [
       "<style  type=\"text/css\" >\n",
       "#T_e8c0b_row0_col0,#T_e8c0b_row0_col1,#T_e8c0b_row0_col2,#T_e8c0b_row0_col3,#T_e8c0b_row1_col0,#T_e8c0b_row1_col1,#T_e8c0b_row1_col2,#T_e8c0b_row1_col3,#T_e8c0b_row2_col0,#T_e8c0b_row2_col1,#T_e8c0b_row2_col2,#T_e8c0b_row2_col3{\n",
       "            text-align:  center;\n",
       "        }</style><table id=\"T_e8c0b_\" ><thead>    <tr>        <th class=\"blank level0\" ></th>        <th class=\"col_heading level0 col0\" >Name</th>        <th class=\"col_heading level0 col1\" >Weight</th>        <th class=\"col_heading level0 col2\" >Reservation Price</th>        <th class=\"col_heading level0 col3\" >Percentage Active</th>    </tr></thead><tbody>\n",
       "                <tr>\n",
       "                        <th id=\"T_e8c0b_level0_row0\" class=\"row_heading level0 row0\" >0</th>\n",
       "                        <td id=\"T_e8c0b_row0_col0\" class=\"data row0 col0\" >Joe</td>\n",
       "                        <td id=\"T_e8c0b_row0_col1\" class=\"data row0 col1\" >150</td>\n",
       "                        <td id=\"T_e8c0b_row0_col2\" class=\"data row0 col2\" >10.120000</td>\n",
       "                        <td id=\"T_e8c0b_row0_col3\" class=\"data row0 col3\" >0.600000</td>\n",
       "            </tr>\n",
       "            <tr>\n",
       "                        <th id=\"T_e8c0b_level0_row1\" class=\"row_heading level0 row1\" >1</th>\n",
       "                        <td id=\"T_e8c0b_row1_col0\" class=\"data row1 col0\" >Jim</td>\n",
       "                        <td id=\"T_e8c0b_row1_col1\" class=\"data row1 col1\" >200</td>\n",
       "                        <td id=\"T_e8c0b_row1_col2\" class=\"data row1 col2\" >15.170000</td>\n",
       "                        <td id=\"T_e8c0b_row1_col3\" class=\"data row1 col3\" >0.400000</td>\n",
       "            </tr>\n",
       "            <tr>\n",
       "                        <th id=\"T_e8c0b_level0_row2\" class=\"row_heading level0 row2\" >2</th>\n",
       "                        <td id=\"T_e8c0b_row2_col0\" class=\"data row2 col0\" >Mary</td>\n",
       "                        <td id=\"T_e8c0b_row2_col1\" class=\"data row2 col1\" >130</td>\n",
       "                        <td id=\"T_e8c0b_row2_col2\" class=\"data row2 col2\" >13.250000</td>\n",
       "                        <td id=\"T_e8c0b_row2_col3\" class=\"data row2 col3\" >0.700000</td>\n",
       "            </tr>\n",
       "    </tbody></table>"
      ],
      "text/plain": [
       "<pandas.io.formats.style.Styler at 0x7fb259ba43d0>"
      ]
     },
     "execution_count": 122,
     "metadata": {},
     "output_type": "execute_result"
    }
   ],
   "source": [
    "def center_cell(value):\n",
    "    return 'text-align: center'\n",
    "\n",
    "df.style.applymap(center_cell)"
   ]
  },
  {
   "cell_type": "code",
   "execution_count": 123,
   "id": "d0b7cfdb-d417-48cd-953e-1b33826665c9",
   "metadata": {},
   "outputs": [
    {
     "data": {
      "text/html": [
       "<style  type=\"text/css\" >\n",
       "#T_9e901_row0_col0,#T_9e901_row0_col1,#T_9e901_row0_col2,#T_9e901_row0_col3,#T_9e901_row1_col0,#T_9e901_row1_col1,#T_9e901_row1_col2,#T_9e901_row1_col3,#T_9e901_row2_col0,#T_9e901_row2_col1,#T_9e901_row2_col2,#T_9e901_row2_col3{\n",
       "            color:  white;\n",
       "             background-color:  black;\n",
       "             text-align: center;\n",
       "        }</style><table id=\"T_9e901_\" ><thead>    <tr>        <th class=\"blank level0\" ></th>        <th class=\"col_heading level0 col0\" >Name</th>        <th class=\"col_heading level0 col1\" >Weight</th>        <th class=\"col_heading level0 col2\" >Reservation Price</th>        <th class=\"col_heading level0 col3\" >Percentage Active</th>    </tr></thead><tbody>\n",
       "                <tr>\n",
       "                        <th id=\"T_9e901_level0_row0\" class=\"row_heading level0 row0\" >0</th>\n",
       "                        <td id=\"T_9e901_row0_col0\" class=\"data row0 col0\" >Joe</td>\n",
       "                        <td id=\"T_9e901_row0_col1\" class=\"data row0 col1\" >150</td>\n",
       "                        <td id=\"T_9e901_row0_col2\" class=\"data row0 col2\" >10.120000</td>\n",
       "                        <td id=\"T_9e901_row0_col3\" class=\"data row0 col3\" >0.600000</td>\n",
       "            </tr>\n",
       "            <tr>\n",
       "                        <th id=\"T_9e901_level0_row1\" class=\"row_heading level0 row1\" >1</th>\n",
       "                        <td id=\"T_9e901_row1_col0\" class=\"data row1 col0\" >Jim</td>\n",
       "                        <td id=\"T_9e901_row1_col1\" class=\"data row1 col1\" >200</td>\n",
       "                        <td id=\"T_9e901_row1_col2\" class=\"data row1 col2\" >15.170000</td>\n",
       "                        <td id=\"T_9e901_row1_col3\" class=\"data row1 col3\" >0.400000</td>\n",
       "            </tr>\n",
       "            <tr>\n",
       "                        <th id=\"T_9e901_level0_row2\" class=\"row_heading level0 row2\" >2</th>\n",
       "                        <td id=\"T_9e901_row2_col0\" class=\"data row2 col0\" >Mary</td>\n",
       "                        <td id=\"T_9e901_row2_col1\" class=\"data row2 col1\" >130</td>\n",
       "                        <td id=\"T_9e901_row2_col2\" class=\"data row2 col2\" >13.250000</td>\n",
       "                        <td id=\"T_9e901_row2_col3\" class=\"data row2 col3\" >0.700000</td>\n",
       "            </tr>\n",
       "    </tbody></table>"
      ],
      "text/plain": [
       "<pandas.io.formats.style.Styler at 0x7fb2706cf820>"
      ]
     },
     "execution_count": 123,
     "metadata": {},
     "output_type": "execute_result"
    }
   ],
   "source": [
    "def multiple_changes(value):  #can combine changes in one function\n",
    "    return 'color: white; background-color: black; text-align:center'\n",
    "\n",
    "df.style.applymap(multiple_changes)"
   ]
  },
  {
   "cell_type": "markdown",
   "id": "0866a10d-a753-4adf-a496-d6f788316132",
   "metadata": {},
   "source": [
    "### Conditional Formatting "
   ]
  },
  {
   "cell_type": "code",
   "execution_count": 124,
   "id": "8a9be308-8d3a-41f7-b87f-46f3f3ed8b36",
   "metadata": {},
   "outputs": [
    {
     "data": {
      "text/html": [
       "<style  type=\"text/css\" >\n",
       "#T_7811b_row1_col3{\n",
       "            background-color:  pink;\n",
       "        }</style><table id=\"T_7811b_\" ><thead>    <tr>        <th class=\"blank level0\" ></th>        <th class=\"col_heading level0 col0\" >Name</th>        <th class=\"col_heading level0 col1\" >Weight</th>        <th class=\"col_heading level0 col2\" >Reservation Price</th>        <th class=\"col_heading level0 col3\" >Percentage Active</th>    </tr></thead><tbody>\n",
       "                <tr>\n",
       "                        <th id=\"T_7811b_level0_row0\" class=\"row_heading level0 row0\" >0</th>\n",
       "                        <td id=\"T_7811b_row0_col0\" class=\"data row0 col0\" >Joe</td>\n",
       "                        <td id=\"T_7811b_row0_col1\" class=\"data row0 col1\" >150</td>\n",
       "                        <td id=\"T_7811b_row0_col2\" class=\"data row0 col2\" >10.120000</td>\n",
       "                        <td id=\"T_7811b_row0_col3\" class=\"data row0 col3\" >0.600000</td>\n",
       "            </tr>\n",
       "            <tr>\n",
       "                        <th id=\"T_7811b_level0_row1\" class=\"row_heading level0 row1\" >1</th>\n",
       "                        <td id=\"T_7811b_row1_col0\" class=\"data row1 col0\" >Jim</td>\n",
       "                        <td id=\"T_7811b_row1_col1\" class=\"data row1 col1\" >200</td>\n",
       "                        <td id=\"T_7811b_row1_col2\" class=\"data row1 col2\" >15.170000</td>\n",
       "                        <td id=\"T_7811b_row1_col3\" class=\"data row1 col3\" >0.400000</td>\n",
       "            </tr>\n",
       "            <tr>\n",
       "                        <th id=\"T_7811b_level0_row2\" class=\"row_heading level0 row2\" >2</th>\n",
       "                        <td id=\"T_7811b_row2_col0\" class=\"data row2 col0\" >Mary</td>\n",
       "                        <td id=\"T_7811b_row2_col1\" class=\"data row2 col1\" >130</td>\n",
       "                        <td id=\"T_7811b_row2_col2\" class=\"data row2 col2\" >13.250000</td>\n",
       "                        <td id=\"T_7811b_row2_col3\" class=\"data row2 col3\" >0.700000</td>\n",
       "            </tr>\n",
       "    </tbody></table>"
      ],
      "text/plain": [
       "<pandas.io.formats.style.Styler at 0x7fb259bacaf0>"
      ]
     },
     "execution_count": 124,
     "metadata": {},
     "output_type": "execute_result"
    }
   ],
   "source": [
    "def highlight_inactive(value):\n",
    "\n",
    "    if isinstance(value, str): #this checks if value is a string\n",
    "        return '' #no formatting \n",
    "\n",
    "    if value < 0.5:\n",
    "        return 'background-color: pink'\n",
    "    return ''\n",
    "\n",
    "df.style.applymap(highlight_inactive)"
   ]
  },
  {
   "cell_type": "code",
   "execution_count": 125,
   "id": "c533f79e-08c3-4cf1-8d45-7dd0e5df7da0",
   "metadata": {},
   "outputs": [
    {
     "data": {
      "text/html": [
       "<div>\n",
       "<style scoped>\n",
       "    .dataframe tbody tr th:only-of-type {\n",
       "        vertical-align: middle;\n",
       "    }\n",
       "\n",
       "    .dataframe tbody tr th {\n",
       "        vertical-align: top;\n",
       "    }\n",
       "\n",
       "    .dataframe thead th {\n",
       "        text-align: right;\n",
       "    }\n",
       "</style>\n",
       "<table border=\"1\" class=\"dataframe\">\n",
       "  <thead>\n",
       "    <tr style=\"text-align: right;\">\n",
       "      <th></th>\n",
       "      <th>Name</th>\n",
       "      <th>Weight</th>\n",
       "      <th>Reservation Price</th>\n",
       "      <th>Percentage Active</th>\n",
       "    </tr>\n",
       "  </thead>\n",
       "  <tbody>\n",
       "    <tr>\n",
       "      <th>0</th>\n",
       "      <td></td>\n",
       "      <td></td>\n",
       "      <td></td>\n",
       "      <td></td>\n",
       "    </tr>\n",
       "    <tr>\n",
       "      <th>1</th>\n",
       "      <td></td>\n",
       "      <td></td>\n",
       "      <td></td>\n",
       "      <td>background-color: pink</td>\n",
       "    </tr>\n",
       "    <tr>\n",
       "      <th>2</th>\n",
       "      <td></td>\n",
       "      <td></td>\n",
       "      <td></td>\n",
       "      <td></td>\n",
       "    </tr>\n",
       "  </tbody>\n",
       "</table>\n",
       "</div>"
      ],
      "text/plain": [
       "  Name Weight Reservation Price       Percentage Active\n",
       "0                                                      \n",
       "1                                background-color: pink\n",
       "2                                                      "
      ]
     },
     "execution_count": 125,
     "metadata": {},
     "output_type": "execute_result"
    }
   ],
   "source": [
    "df.applymap(highlight_inactive)"
   ]
  },
  {
   "cell_type": "code",
   "execution_count": 126,
   "id": "e0ee8d1b-b5e3-40f2-a59e-124578e32151",
   "metadata": {},
   "outputs": [
    {
     "data": {
      "text/html": [
       "<style  type=\"text/css\" >\n",
       "</style><table id=\"T_506b7_\" ><thead>    <tr>        <th class=\"col_heading level0 col0\" >Name</th>        <th class=\"col_heading level0 col1\" >Weight</th>        <th class=\"col_heading level0 col2\" >Reservation Price</th>        <th class=\"col_heading level0 col3\" >Percentage Active</th>    </tr></thead><tbody>\n",
       "                <tr>\n",
       "                                <td id=\"T_506b7_row0_col0\" class=\"data row0 col0\" >Joe</td>\n",
       "                        <td id=\"T_506b7_row0_col1\" class=\"data row0 col1\" >150</td>\n",
       "                        <td id=\"T_506b7_row0_col2\" class=\"data row0 col2\" >10.120000</td>\n",
       "                        <td id=\"T_506b7_row0_col3\" class=\"data row0 col3\" >0.600000</td>\n",
       "            </tr>\n",
       "            <tr>\n",
       "                                <td id=\"T_506b7_row1_col0\" class=\"data row1 col0\" >Jim</td>\n",
       "                        <td id=\"T_506b7_row1_col1\" class=\"data row1 col1\" >200</td>\n",
       "                        <td id=\"T_506b7_row1_col2\" class=\"data row1 col2\" >15.170000</td>\n",
       "                        <td id=\"T_506b7_row1_col3\" class=\"data row1 col3\" >0.400000</td>\n",
       "            </tr>\n",
       "            <tr>\n",
       "                                <td id=\"T_506b7_row2_col0\" class=\"data row2 col0\" >Mary</td>\n",
       "                        <td id=\"T_506b7_row2_col1\" class=\"data row2 col1\" >130</td>\n",
       "                        <td id=\"T_506b7_row2_col2\" class=\"data row2 col2\" >13.250000</td>\n",
       "                        <td id=\"T_506b7_row2_col3\" class=\"data row2 col3\" >0.700000</td>\n",
       "            </tr>\n",
       "    </tbody></table>"
      ],
      "text/plain": [
       "<pandas.io.formats.style.Styler at 0x7fb270737910>"
      ]
     },
     "execution_count": 126,
     "metadata": {},
     "output_type": "execute_result"
    }
   ],
   "source": [
    "df.style.hide_index()  #can hide index on the left"
   ]
  },
  {
   "cell_type": "code",
   "execution_count": 127,
   "id": "44cacb5e-ef68-407b-a7cc-f336833eb7a6",
   "metadata": {},
   "outputs": [
    {
     "data": {
      "text/html": [
       "<style  type=\"text/css\" >\n",
       "</style><table id=\"T_32dce_\" ><thead>    <tr>        <th class=\"blank level0\" ></th>        <th class=\"col_heading level0 col0\" >Name</th>        <th class=\"col_heading level0 col2\" >Reservation Price</th>        <th class=\"col_heading level0 col3\" >Percentage Active</th>    </tr></thead><tbody>\n",
       "                <tr>\n",
       "                        <th id=\"T_32dce_level0_row0\" class=\"row_heading level0 row0\" >0</th>\n",
       "                        <td id=\"T_32dce_row0_col0\" class=\"data row0 col0\" >Joe</td>\n",
       "                                <td id=\"T_32dce_row0_col2\" class=\"data row0 col2\" >10.120000</td>\n",
       "                        <td id=\"T_32dce_row0_col3\" class=\"data row0 col3\" >0.600000</td>\n",
       "            </tr>\n",
       "            <tr>\n",
       "                        <th id=\"T_32dce_level0_row1\" class=\"row_heading level0 row1\" >1</th>\n",
       "                        <td id=\"T_32dce_row1_col0\" class=\"data row1 col0\" >Jim</td>\n",
       "                                <td id=\"T_32dce_row1_col2\" class=\"data row1 col2\" >15.170000</td>\n",
       "                        <td id=\"T_32dce_row1_col3\" class=\"data row1 col3\" >0.400000</td>\n",
       "            </tr>\n",
       "            <tr>\n",
       "                        <th id=\"T_32dce_level0_row2\" class=\"row_heading level0 row2\" >2</th>\n",
       "                        <td id=\"T_32dce_row2_col0\" class=\"data row2 col0\" >Mary</td>\n",
       "                                <td id=\"T_32dce_row2_col2\" class=\"data row2 col2\" >13.250000</td>\n",
       "                        <td id=\"T_32dce_row2_col3\" class=\"data row2 col3\" >0.700000</td>\n",
       "            </tr>\n",
       "    </tbody></table>"
      ],
      "text/plain": [
       "<pandas.io.formats.style.Styler at 0x7fb259b98070>"
      ]
     },
     "execution_count": 127,
     "metadata": {},
     "output_type": "execute_result"
    }
   ],
   "source": [
    "df.style.hide_columns(['Weight'])"
   ]
  },
  {
   "cell_type": "code",
   "execution_count": 128,
   "id": "9adc56fc-d3c7-49eb-996a-5346bdcdca0d",
   "metadata": {},
   "outputs": [
    {
     "data": {
      "text/html": [
       "<style  type=\"text/css\" >\n",
       "</style><table id=\"T_b3ee2_\" ><caption>My Table</caption><thead>    <tr>        <th class=\"blank level0\" ></th>        <th class=\"col_heading level0 col0\" >Name</th>        <th class=\"col_heading level0 col1\" >Weight</th>        <th class=\"col_heading level0 col2\" >Reservation Price</th>        <th class=\"col_heading level0 col3\" >Percentage Active</th>    </tr></thead><tbody>\n",
       "                <tr>\n",
       "                        <th id=\"T_b3ee2_level0_row0\" class=\"row_heading level0 row0\" >0</th>\n",
       "                        <td id=\"T_b3ee2_row0_col0\" class=\"data row0 col0\" >Joe</td>\n",
       "                        <td id=\"T_b3ee2_row0_col1\" class=\"data row0 col1\" >150</td>\n",
       "                        <td id=\"T_b3ee2_row0_col2\" class=\"data row0 col2\" >10.120000</td>\n",
       "                        <td id=\"T_b3ee2_row0_col3\" class=\"data row0 col3\" >0.600000</td>\n",
       "            </tr>\n",
       "            <tr>\n",
       "                        <th id=\"T_b3ee2_level0_row1\" class=\"row_heading level0 row1\" >1</th>\n",
       "                        <td id=\"T_b3ee2_row1_col0\" class=\"data row1 col0\" >Jim</td>\n",
       "                        <td id=\"T_b3ee2_row1_col1\" class=\"data row1 col1\" >200</td>\n",
       "                        <td id=\"T_b3ee2_row1_col2\" class=\"data row1 col2\" >15.170000</td>\n",
       "                        <td id=\"T_b3ee2_row1_col3\" class=\"data row1 col3\" >0.400000</td>\n",
       "            </tr>\n",
       "            <tr>\n",
       "                        <th id=\"T_b3ee2_level0_row2\" class=\"row_heading level0 row2\" >2</th>\n",
       "                        <td id=\"T_b3ee2_row2_col0\" class=\"data row2 col0\" >Mary</td>\n",
       "                        <td id=\"T_b3ee2_row2_col1\" class=\"data row2 col1\" >130</td>\n",
       "                        <td id=\"T_b3ee2_row2_col2\" class=\"data row2 col2\" >13.250000</td>\n",
       "                        <td id=\"T_b3ee2_row2_col3\" class=\"data row2 col3\" >0.700000</td>\n",
       "            </tr>\n",
       "    </tbody></table>"
      ],
      "text/plain": [
       "<pandas.io.formats.style.Styler at 0x7fb2707379d0>"
      ]
     },
     "execution_count": 128,
     "metadata": {},
     "output_type": "execute_result"
    }
   ],
   "source": [
    "df.style.set_caption('My Table')"
   ]
  },
  {
   "cell_type": "code",
   "execution_count": 129,
   "id": "603d7c5b-9e07-46a5-b433-26ae8696e5c1",
   "metadata": {},
   "outputs": [
    {
     "data": {
      "text/html": [
       "<style  type=\"text/css\" >\n",
       "    #T_232ae_ tr:hover {\n",
       "          background-color: #ffff99;\n",
       "    }    #T_232ae_ th {\n",
       "          font-size: 150%;\n",
       "          text-align: center;\n",
       "    }    #T_232ae_ caption {\n",
       "          caption-side: bottom;\n",
       "    }</style><table id=\"T_232ae_\" ><caption>Hover to highlight</caption><thead>    <tr>        <th class=\"blank level0\" ></th>        <th class=\"col_heading level0 col0\" >Name</th>        <th class=\"col_heading level0 col1\" >Weight</th>        <th class=\"col_heading level0 col2\" >Reservation Price</th>        <th class=\"col_heading level0 col3\" >Percentage Active</th>    </tr></thead><tbody>\n",
       "                <tr>\n",
       "                        <th id=\"T_232ae_level0_row0\" class=\"row_heading level0 row0\" >0</th>\n",
       "                        <td id=\"T_232ae_row0_col0\" class=\"data row0 col0\" >Joe</td>\n",
       "                        <td id=\"T_232ae_row0_col1\" class=\"data row0 col1\" >150</td>\n",
       "                        <td id=\"T_232ae_row0_col2\" class=\"data row0 col2\" >10.120000</td>\n",
       "                        <td id=\"T_232ae_row0_col3\" class=\"data row0 col3\" >0.600000</td>\n",
       "            </tr>\n",
       "            <tr>\n",
       "                        <th id=\"T_232ae_level0_row1\" class=\"row_heading level0 row1\" >1</th>\n",
       "                        <td id=\"T_232ae_row1_col0\" class=\"data row1 col0\" >Jim</td>\n",
       "                        <td id=\"T_232ae_row1_col1\" class=\"data row1 col1\" >200</td>\n",
       "                        <td id=\"T_232ae_row1_col2\" class=\"data row1 col2\" >15.170000</td>\n",
       "                        <td id=\"T_232ae_row1_col3\" class=\"data row1 col3\" >0.400000</td>\n",
       "            </tr>\n",
       "            <tr>\n",
       "                        <th id=\"T_232ae_level0_row2\" class=\"row_heading level0 row2\" >2</th>\n",
       "                        <td id=\"T_232ae_row2_col0\" class=\"data row2 col0\" >Mary</td>\n",
       "                        <td id=\"T_232ae_row2_col1\" class=\"data row2 col1\" >130</td>\n",
       "                        <td id=\"T_232ae_row2_col2\" class=\"data row2 col2\" >13.250000</td>\n",
       "                        <td id=\"T_232ae_row2_col3\" class=\"data row2 col3\" >0.700000</td>\n",
       "            </tr>\n",
       "    </tbody></table>"
      ],
      "text/plain": [
       "<pandas.io.formats.style.Styler at 0x7fb27072fe50>"
      ]
     },
     "execution_count": 129,
     "metadata": {},
     "output_type": "execute_result"
    }
   ],
   "source": [
    "def hover(hover_color = \"#ffff99\"):\n",
    "    return dict(selector= \"tr:hover\",\n",
    "                props = [(\"background-color\", hover_color)])\n",
    "\n",
    "styles = [\n",
    "    hover(),\n",
    "    dict(selector=\"th\", props =[(\"font-size\", \"150%\"),\n",
    "                                 (\"text-align\",\"center\")]),\n",
    "    dict(selector=\"caption\", props=[(\"caption-side\",\"bottom\")])\n",
    "]\n",
    "\n",
    "df.style.set_table_styles(styles).set_caption(\"Hover to highlight\")"
   ]
  },
  {
   "cell_type": "code",
   "execution_count": 130,
   "id": "13d886bc-2894-4cf9-a26d-01f23cbe7a40",
   "metadata": {},
   "outputs": [
    {
     "data": {
      "text/html": [
       "<style  type=\"text/css\" >\n",
       "#T_cf5d9_row0_col1{\n",
       "            width:  10em;\n",
       "             height:  80%;\n",
       "            background:  linear-gradient(90deg, transparent 50.0%, lightblue 50.0%, lightblue 87.5%, transparent 87.5%);\n",
       "        }#T_cf5d9_row0_col2{\n",
       "            width:  10em;\n",
       "             height:  80%;\n",
       "            background:  linear-gradient(90deg, transparent 50.0%, lightblue 50.0%, lightblue 83.4%, transparent 83.4%);\n",
       "        }#T_cf5d9_row0_col3{\n",
       "            width:  10em;\n",
       "             height:  80%;\n",
       "            background:  linear-gradient(90deg, transparent 50.0%, lightblue 50.0%, lightblue 92.9%, transparent 92.9%);\n",
       "        }#T_cf5d9_row1_col1,#T_cf5d9_row1_col2,#T_cf5d9_row2_col3{\n",
       "            width:  10em;\n",
       "             height:  80%;\n",
       "            background:  linear-gradient(90deg, transparent 50.0%, lightblue 50.0%, lightblue 100.0%, transparent 100.0%);\n",
       "        }#T_cf5d9_row1_col3{\n",
       "            width:  10em;\n",
       "             height:  80%;\n",
       "            background:  linear-gradient(90deg, transparent 50.0%, lightblue 50.0%, lightblue 78.6%, transparent 78.6%);\n",
       "        }#T_cf5d9_row2_col1{\n",
       "            width:  10em;\n",
       "             height:  80%;\n",
       "            background:  linear-gradient(90deg, transparent 50.0%, lightblue 50.0%, lightblue 82.5%, transparent 82.5%);\n",
       "        }#T_cf5d9_row2_col2{\n",
       "            width:  10em;\n",
       "             height:  80%;\n",
       "            background:  linear-gradient(90deg, transparent 50.0%, lightblue 50.0%, lightblue 93.7%, transparent 93.7%);\n",
       "        }</style><table id=\"T_cf5d9_\" ><thead>    <tr>        <th class=\"blank level0\" ></th>        <th class=\"col_heading level0 col0\" >Name</th>        <th class=\"col_heading level0 col1\" >Weight</th>        <th class=\"col_heading level0 col2\" >Reservation Price</th>        <th class=\"col_heading level0 col3\" >Percentage Active</th>    </tr></thead><tbody>\n",
       "                <tr>\n",
       "                        <th id=\"T_cf5d9_level0_row0\" class=\"row_heading level0 row0\" >0</th>\n",
       "                        <td id=\"T_cf5d9_row0_col0\" class=\"data row0 col0\" >Joe</td>\n",
       "                        <td id=\"T_cf5d9_row0_col1\" class=\"data row0 col1\" >150</td>\n",
       "                        <td id=\"T_cf5d9_row0_col2\" class=\"data row0 col2\" >10.120000</td>\n",
       "                        <td id=\"T_cf5d9_row0_col3\" class=\"data row0 col3\" >0.600000</td>\n",
       "            </tr>\n",
       "            <tr>\n",
       "                        <th id=\"T_cf5d9_level0_row1\" class=\"row_heading level0 row1\" >1</th>\n",
       "                        <td id=\"T_cf5d9_row1_col0\" class=\"data row1 col0\" >Jim</td>\n",
       "                        <td id=\"T_cf5d9_row1_col1\" class=\"data row1 col1\" >200</td>\n",
       "                        <td id=\"T_cf5d9_row1_col2\" class=\"data row1 col2\" >15.170000</td>\n",
       "                        <td id=\"T_cf5d9_row1_col3\" class=\"data row1 col3\" >0.400000</td>\n",
       "            </tr>\n",
       "            <tr>\n",
       "                        <th id=\"T_cf5d9_level0_row2\" class=\"row_heading level0 row2\" >2</th>\n",
       "                        <td id=\"T_cf5d9_row2_col0\" class=\"data row2 col0\" >Mary</td>\n",
       "                        <td id=\"T_cf5d9_row2_col1\" class=\"data row2 col1\" >130</td>\n",
       "                        <td id=\"T_cf5d9_row2_col2\" class=\"data row2 col2\" >13.250000</td>\n",
       "                        <td id=\"T_cf5d9_row2_col3\" class=\"data row2 col3\" >0.700000</td>\n",
       "            </tr>\n",
       "    </tbody></table>"
      ],
      "text/plain": [
       "<pandas.io.formats.style.Styler at 0x7fb27073b340>"
      ]
     },
     "execution_count": 130,
     "metadata": {},
     "output_type": "execute_result"
    }
   ],
   "source": [
    "df.style.bar(align='zero',color='lightblue')"
   ]
  },
  {
   "cell_type": "code",
   "execution_count": 131,
   "id": "8027777f-08ca-470f-99dc-38e036f23fc2",
   "metadata": {},
   "outputs": [
    {
     "data": {
      "text/html": [
       "<style  type=\"text/css\" >\n",
       "#T_526cf_row0_col2{\n",
       "            width:  10em;\n",
       "             height:  80%;\n",
       "            background:  linear-gradient(90deg,lightblue 66.7%, transparent 66.7%);\n",
       "        }#T_526cf_row1_col2{\n",
       "            width:  10em;\n",
       "             height:  80%;\n",
       "            background:  linear-gradient(90deg,lightblue 100.0%, transparent 100.0%);\n",
       "        }#T_526cf_row2_col2{\n",
       "            width:  10em;\n",
       "             height:  80%;\n",
       "            background:  linear-gradient(90deg,lightblue 87.3%, transparent 87.3%);\n",
       "        }</style><table id=\"T_526cf_\" ><thead>    <tr>        <th class=\"blank level0\" ></th>        <th class=\"col_heading level0 col0\" >Name</th>        <th class=\"col_heading level0 col1\" >Weight</th>        <th class=\"col_heading level0 col2\" >Reservation Price</th>        <th class=\"col_heading level0 col3\" >Percentage Active</th>    </tr></thead><tbody>\n",
       "                <tr>\n",
       "                        <th id=\"T_526cf_level0_row0\" class=\"row_heading level0 row0\" >0</th>\n",
       "                        <td id=\"T_526cf_row0_col0\" class=\"data row0 col0\" >Joe</td>\n",
       "                        <td id=\"T_526cf_row0_col1\" class=\"data row0 col1\" >150</td>\n",
       "                        <td id=\"T_526cf_row0_col2\" class=\"data row0 col2\" >10.120000</td>\n",
       "                        <td id=\"T_526cf_row0_col3\" class=\"data row0 col3\" >0.600000</td>\n",
       "            </tr>\n",
       "            <tr>\n",
       "                        <th id=\"T_526cf_level0_row1\" class=\"row_heading level0 row1\" >1</th>\n",
       "                        <td id=\"T_526cf_row1_col0\" class=\"data row1 col0\" >Jim</td>\n",
       "                        <td id=\"T_526cf_row1_col1\" class=\"data row1 col1\" >200</td>\n",
       "                        <td id=\"T_526cf_row1_col2\" class=\"data row1 col2\" >15.170000</td>\n",
       "                        <td id=\"T_526cf_row1_col3\" class=\"data row1 col3\" >0.400000</td>\n",
       "            </tr>\n",
       "            <tr>\n",
       "                        <th id=\"T_526cf_level0_row2\" class=\"row_heading level0 row2\" >2</th>\n",
       "                        <td id=\"T_526cf_row2_col0\" class=\"data row2 col0\" >Mary</td>\n",
       "                        <td id=\"T_526cf_row2_col1\" class=\"data row2 col1\" >130</td>\n",
       "                        <td id=\"T_526cf_row2_col2\" class=\"data row2 col2\" >13.250000</td>\n",
       "                        <td id=\"T_526cf_row2_col3\" class=\"data row2 col3\" >0.700000</td>\n",
       "            </tr>\n",
       "    </tbody></table>"
      ],
      "text/plain": [
       "<pandas.io.formats.style.Styler at 0x7fb27073b820>"
      ]
     },
     "execution_count": 131,
     "metadata": {},
     "output_type": "execute_result"
    }
   ],
   "source": [
    "df.style.bar(align='mid',color='lightblue', subset= ['Reservation Price'])"
   ]
  },
  {
   "cell_type": "code",
   "execution_count": 132,
   "id": "a536dc5e-ea2d-4551-b5a8-0b015dffe02c",
   "metadata": {},
   "outputs": [
    {
     "data": {
      "text/html": [
       "<div>\n",
       "<style scoped>\n",
       "    .dataframe tbody tr th:only-of-type {\n",
       "        vertical-align: middle;\n",
       "    }\n",
       "\n",
       "    .dataframe tbody tr th {\n",
       "        vertical-align: top;\n",
       "    }\n",
       "\n",
       "    .dataframe thead th {\n",
       "        text-align: right;\n",
       "    }\n",
       "</style>\n",
       "<table border=\"1\" class=\"dataframe\">\n",
       "  <thead>\n",
       "    <tr style=\"text-align: right;\">\n",
       "      <th></th>\n",
       "      <th>Name</th>\n",
       "      <th>Weight</th>\n",
       "      <th>Reservation Price</th>\n",
       "      <th>Percentage Active</th>\n",
       "    </tr>\n",
       "  </thead>\n",
       "  <tbody>\n",
       "    <tr>\n",
       "      <th>0</th>\n",
       "      <td>Joe</td>\n",
       "      <td>150</td>\n",
       "      <td>10.12</td>\n",
       "      <td>0.6</td>\n",
       "    </tr>\n",
       "    <tr>\n",
       "      <th>1</th>\n",
       "      <td>Jim</td>\n",
       "      <td>200</td>\n",
       "      <td>15.17</td>\n",
       "      <td>0.4</td>\n",
       "    </tr>\n",
       "    <tr>\n",
       "      <th>2</th>\n",
       "      <td>Mary</td>\n",
       "      <td>130</td>\n",
       "      <td>13.25</td>\n",
       "      <td>0.7</td>\n",
       "    </tr>\n",
       "  </tbody>\n",
       "</table>\n",
       "</div>"
      ],
      "text/plain": [
       "   Name  Weight  Reservation Price  Percentage Active\n",
       "0   Joe     150              10.12                0.6\n",
       "1   Jim     200              15.17                0.4\n",
       "2  Mary     130              13.25                0.7"
      ]
     },
     "execution_count": 132,
     "metadata": {},
     "output_type": "execute_result"
    }
   ],
   "source": [
    "df #note the original dataframe isnt styled\n",
    "#the stlyed Df is a new object"
   ]
  },
  {
   "cell_type": "code",
   "execution_count": 133,
   "id": "c91c7cf4-11e1-4e18-8745-303f8b27c6c7",
   "metadata": {},
   "outputs": [],
   "source": [
    "def styled_df(df):\n",
    "    s = (\n",
    "        df.style.format({\n",
    "            'Reservation Price': \"${:,.2f}\",\n",
    "            'Percentage Active' : '{:.0%}'\n",
    "        })\n",
    "        .applymap(highlight_inactive)\n",
    "        .applymap(center_cell)\n",
    "        .hide_index()\n",
    "        .set_caption('Personal Info')\n",
    "        .bar(align='mid',color='lightblue', subset= ['Reservation Price'])\n",
    "    )\n",
    "    return s\n",
    "            \n",
    "            "
   ]
  },
  {
   "cell_type": "code",
   "execution_count": 134,
   "id": "dd323afd-a7b0-4bdd-bd0f-1fa965c89cbe",
   "metadata": {},
   "outputs": [
    {
     "data": {
      "text/html": [
       "<style  type=\"text/css\" >\n",
       "#T_8f9ff_row0_col0,#T_8f9ff_row0_col1,#T_8f9ff_row0_col3,#T_8f9ff_row1_col0,#T_8f9ff_row1_col1,#T_8f9ff_row2_col0,#T_8f9ff_row2_col1,#T_8f9ff_row2_col3{\n",
       "            text-align:  center;\n",
       "        }#T_8f9ff_row0_col2{\n",
       "            text-align:  center;\n",
       "            width:  10em;\n",
       "             height:  80%;\n",
       "            background:  linear-gradient(90deg,lightblue 66.7%, transparent 66.7%);\n",
       "        }#T_8f9ff_row1_col2{\n",
       "            text-align:  center;\n",
       "            width:  10em;\n",
       "             height:  80%;\n",
       "            background:  linear-gradient(90deg,lightblue 100.0%, transparent 100.0%);\n",
       "        }#T_8f9ff_row1_col3{\n",
       "            background-color:  pink;\n",
       "            text-align:  center;\n",
       "        }#T_8f9ff_row2_col2{\n",
       "            text-align:  center;\n",
       "            width:  10em;\n",
       "             height:  80%;\n",
       "            background:  linear-gradient(90deg,lightblue 87.3%, transparent 87.3%);\n",
       "        }</style><table id=\"T_8f9ff_\" ><caption>Personal Info</caption><thead>    <tr>        <th class=\"col_heading level0 col0\" >Name</th>        <th class=\"col_heading level0 col1\" >Weight</th>        <th class=\"col_heading level0 col2\" >Reservation Price</th>        <th class=\"col_heading level0 col3\" >Percentage Active</th>    </tr></thead><tbody>\n",
       "                <tr>\n",
       "                                <td id=\"T_8f9ff_row0_col0\" class=\"data row0 col0\" >Joe</td>\n",
       "                        <td id=\"T_8f9ff_row0_col1\" class=\"data row0 col1\" >150</td>\n",
       "                        <td id=\"T_8f9ff_row0_col2\" class=\"data row0 col2\" >$10.12</td>\n",
       "                        <td id=\"T_8f9ff_row0_col3\" class=\"data row0 col3\" >60%</td>\n",
       "            </tr>\n",
       "            <tr>\n",
       "                                <td id=\"T_8f9ff_row1_col0\" class=\"data row1 col0\" >Jim</td>\n",
       "                        <td id=\"T_8f9ff_row1_col1\" class=\"data row1 col1\" >200</td>\n",
       "                        <td id=\"T_8f9ff_row1_col2\" class=\"data row1 col2\" >$15.17</td>\n",
       "                        <td id=\"T_8f9ff_row1_col3\" class=\"data row1 col3\" >40%</td>\n",
       "            </tr>\n",
       "            <tr>\n",
       "                                <td id=\"T_8f9ff_row2_col0\" class=\"data row2 col0\" >Mary</td>\n",
       "                        <td id=\"T_8f9ff_row2_col1\" class=\"data row2 col1\" >130</td>\n",
       "                        <td id=\"T_8f9ff_row2_col2\" class=\"data row2 col2\" >$13.25</td>\n",
       "                        <td id=\"T_8f9ff_row2_col3\" class=\"data row2 col3\" >70%</td>\n",
       "            </tr>\n",
       "    </tbody></table>"
      ],
      "text/plain": [
       "<pandas.io.formats.style.Styler at 0x7fb2707371f0>"
      ]
     },
     "execution_count": 134,
     "metadata": {},
     "output_type": "execute_result"
    }
   ],
   "source": [
    "styled_df(df)"
   ]
  },
  {
   "cell_type": "code",
   "execution_count": 135,
   "id": "3781773d-99b3-4289-b438-c54e131a7a6f",
   "metadata": {},
   "outputs": [
    {
     "data": {
      "text/html": [
       "<style  type=\"text/css\" >\n",
       "#T_bff9b_row0_col0{\n",
       "            text-align:  center;\n",
       "            width:  10em;\n",
       "             height:  80%;\n",
       "            background:  linear-gradient(90deg,lightblue 66.7%, transparent 66.7%);\n",
       "        }#T_bff9b_row0_col1,#T_bff9b_row1_col1{\n",
       "            background-color:  pink;\n",
       "            text-align:  center;\n",
       "        }#T_bff9b_row1_col0{\n",
       "            text-align:  center;\n",
       "            width:  10em;\n",
       "             height:  80%;\n",
       "            background:  linear-gradient(90deg,lightblue 100.0%, transparent 100.0%);\n",
       "        }#T_bff9b_row2_col0{\n",
       "            text-align:  center;\n",
       "            width:  10em;\n",
       "             height:  80%;\n",
       "            background:  linear-gradient(90deg,lightblue 87.3%, transparent 87.3%);\n",
       "        }#T_bff9b_row2_col1{\n",
       "            text-align:  center;\n",
       "        }</style><table id=\"T_bff9b_\" ><caption>Personal Info</caption><thead>    <tr>        <th class=\"col_heading level0 col0\" >Reservation Price</th>        <th class=\"col_heading level0 col1\" >Percentage Active</th>    </tr></thead><tbody>\n",
       "                <tr>\n",
       "                                <td id=\"T_bff9b_row0_col0\" class=\"data row0 col0\" >$8.10</td>\n",
       "                        <td id=\"T_bff9b_row0_col1\" class=\"data row0 col1\" >48%</td>\n",
       "            </tr>\n",
       "            <tr>\n",
       "                                <td id=\"T_bff9b_row1_col0\" class=\"data row1 col0\" >$12.14</td>\n",
       "                        <td id=\"T_bff9b_row1_col1\" class=\"data row1 col1\" >32%</td>\n",
       "            </tr>\n",
       "            <tr>\n",
       "                                <td id=\"T_bff9b_row2_col0\" class=\"data row2 col0\" >$10.60</td>\n",
       "                        <td id=\"T_bff9b_row2_col1\" class=\"data row2 col1\" >56%</td>\n",
       "            </tr>\n",
       "    </tbody></table>"
      ],
      "text/plain": [
       "<pandas.io.formats.style.Styler at 0x7fb270737b50>"
      ]
     },
     "execution_count": 135,
     "metadata": {},
     "output_type": "execute_result"
    }
   ],
   "source": [
    "styled_df(df[['Reservation Price' , 'Percentage Active']]*0.8)"
   ]
  },
  {
   "cell_type": "markdown",
   "id": "49ccc9ba-aced-4aff-b196-2fc238c2cd18",
   "metadata": {},
   "source": [
    "### Some common formatting shortcuts "
   ]
  },
  {
   "cell_type": "code",
   "execution_count": 136,
   "id": "c3ef5e79-74ee-49fe-9384-400da8c72e56",
   "metadata": {},
   "outputs": [
    {
     "data": {
      "text/html": [
       "<style  type=\"text/css\" >\n",
       "#T_248b1_row0_col2,#T_248b1_row1_col3,#T_248b1_row2_col1{\n",
       "            background-color:  yellow;\n",
       "        }</style><table id=\"T_248b1_\" ><thead>    <tr>        <th class=\"blank level0\" ></th>        <th class=\"col_heading level0 col0\" >Name</th>        <th class=\"col_heading level0 col1\" >Weight</th>        <th class=\"col_heading level0 col2\" >Reservation Price</th>        <th class=\"col_heading level0 col3\" >Percentage Active</th>    </tr></thead><tbody>\n",
       "                <tr>\n",
       "                        <th id=\"T_248b1_level0_row0\" class=\"row_heading level0 row0\" >0</th>\n",
       "                        <td id=\"T_248b1_row0_col0\" class=\"data row0 col0\" >Joe</td>\n",
       "                        <td id=\"T_248b1_row0_col1\" class=\"data row0 col1\" >150</td>\n",
       "                        <td id=\"T_248b1_row0_col2\" class=\"data row0 col2\" >10.120000</td>\n",
       "                        <td id=\"T_248b1_row0_col3\" class=\"data row0 col3\" >0.600000</td>\n",
       "            </tr>\n",
       "            <tr>\n",
       "                        <th id=\"T_248b1_level0_row1\" class=\"row_heading level0 row1\" >1</th>\n",
       "                        <td id=\"T_248b1_row1_col0\" class=\"data row1 col0\" >Jim</td>\n",
       "                        <td id=\"T_248b1_row1_col1\" class=\"data row1 col1\" >200</td>\n",
       "                        <td id=\"T_248b1_row1_col2\" class=\"data row1 col2\" >15.170000</td>\n",
       "                        <td id=\"T_248b1_row1_col3\" class=\"data row1 col3\" >0.400000</td>\n",
       "            </tr>\n",
       "            <tr>\n",
       "                        <th id=\"T_248b1_level0_row2\" class=\"row_heading level0 row2\" >2</th>\n",
       "                        <td id=\"T_248b1_row2_col0\" class=\"data row2 col0\" >Mary</td>\n",
       "                        <td id=\"T_248b1_row2_col1\" class=\"data row2 col1\" >130</td>\n",
       "                        <td id=\"T_248b1_row2_col2\" class=\"data row2 col2\" >13.250000</td>\n",
       "                        <td id=\"T_248b1_row2_col3\" class=\"data row2 col3\" >0.700000</td>\n",
       "            </tr>\n",
       "    </tbody></table>"
      ],
      "text/plain": [
       "<pandas.io.formats.style.Styler at 0x7fb270737fd0>"
      ]
     },
     "execution_count": 136,
     "metadata": {},
     "output_type": "execute_result"
    }
   ],
   "source": [
    "df.style.highlight_min()"
   ]
  },
  {
   "cell_type": "code",
   "execution_count": 137,
   "id": "37a78872-0930-48c6-977f-e5a9a600a29b",
   "metadata": {},
   "outputs": [
    {
     "data": {
      "text/html": [
       "<style  type=\"text/css\" >\n",
       "#T_36a2a_row0_col1{\n",
       "            background-color:  #fca55d;\n",
       "            color:  #000000;\n",
       "        }#T_36a2a_row0_col2,#T_36a2a_row1_col3,#T_36a2a_row2_col1{\n",
       "            background-color:  #a50026;\n",
       "            color:  #f1f1f1;\n",
       "        }#T_36a2a_row0_col3{\n",
       "            background-color:  #b7e075;\n",
       "            color:  #000000;\n",
       "        }#T_36a2a_row1_col1,#T_36a2a_row1_col2,#T_36a2a_row2_col3{\n",
       "            background-color:  #006837;\n",
       "            color:  #f1f1f1;\n",
       "        }#T_36a2a_row2_col2{\n",
       "            background-color:  #cfeb85;\n",
       "            color:  #000000;\n",
       "        }</style><table id=\"T_36a2a_\" ><thead>    <tr>        <th class=\"blank level0\" ></th>        <th class=\"col_heading level0 col0\" >Name</th>        <th class=\"col_heading level0 col1\" >Weight</th>        <th class=\"col_heading level0 col2\" >Reservation Price</th>        <th class=\"col_heading level0 col3\" >Percentage Active</th>    </tr></thead><tbody>\n",
       "                <tr>\n",
       "                        <th id=\"T_36a2a_level0_row0\" class=\"row_heading level0 row0\" >0</th>\n",
       "                        <td id=\"T_36a2a_row0_col0\" class=\"data row0 col0\" >Joe</td>\n",
       "                        <td id=\"T_36a2a_row0_col1\" class=\"data row0 col1\" >150</td>\n",
       "                        <td id=\"T_36a2a_row0_col2\" class=\"data row0 col2\" >10.120000</td>\n",
       "                        <td id=\"T_36a2a_row0_col3\" class=\"data row0 col3\" >0.600000</td>\n",
       "            </tr>\n",
       "            <tr>\n",
       "                        <th id=\"T_36a2a_level0_row1\" class=\"row_heading level0 row1\" >1</th>\n",
       "                        <td id=\"T_36a2a_row1_col0\" class=\"data row1 col0\" >Jim</td>\n",
       "                        <td id=\"T_36a2a_row1_col1\" class=\"data row1 col1\" >200</td>\n",
       "                        <td id=\"T_36a2a_row1_col2\" class=\"data row1 col2\" >15.170000</td>\n",
       "                        <td id=\"T_36a2a_row1_col3\" class=\"data row1 col3\" >0.400000</td>\n",
       "            </tr>\n",
       "            <tr>\n",
       "                        <th id=\"T_36a2a_level0_row2\" class=\"row_heading level0 row2\" >2</th>\n",
       "                        <td id=\"T_36a2a_row2_col0\" class=\"data row2 col0\" >Mary</td>\n",
       "                        <td id=\"T_36a2a_row2_col1\" class=\"data row2 col1\" >130</td>\n",
       "                        <td id=\"T_36a2a_row2_col2\" class=\"data row2 col2\" >13.250000</td>\n",
       "                        <td id=\"T_36a2a_row2_col3\" class=\"data row2 col3\" >0.700000</td>\n",
       "            </tr>\n",
       "    </tbody></table>"
      ],
      "text/plain": [
       "<pandas.io.formats.style.Styler at 0x7fb270737e20>"
      ]
     },
     "execution_count": 137,
     "metadata": {},
     "output_type": "execute_result"
    }
   ],
   "source": [
    "df.style.background_gradient(cmap='RdYlGn') \n",
    "#can pass a cmap='' for different color maps\n",
    "#add _r to the color map to reverse the color scheme"
   ]
  },
  {
   "cell_type": "code",
   "execution_count": null,
   "id": "9be4e50a-9420-4978-9123-b1e7b95e619a",
   "metadata": {},
   "outputs": [],
   "source": []
  },
  {
   "cell_type": "code",
   "execution_count": 138,
   "id": "aa861ece-8f42-480d-855d-76c480e75c90",
   "metadata": {},
   "outputs": [],
   "source": []
  }
 ],
 "metadata": {
  "kernelspec": {
   "display_name": "Python 3",
   "language": "python",
   "name": "python3"
  },
  "language_info": {
   "codemirror_mode": {
    "name": "ipython",
    "version": 3
   },
   "file_extension": ".py",
   "mimetype": "text/x-python",
   "name": "python",
   "nbconvert_exporter": "python",
   "pygments_lexer": "ipython3",
   "version": "3.9.5"
  }
 },
 "nbformat": 4,
 "nbformat_minor": 5
}
