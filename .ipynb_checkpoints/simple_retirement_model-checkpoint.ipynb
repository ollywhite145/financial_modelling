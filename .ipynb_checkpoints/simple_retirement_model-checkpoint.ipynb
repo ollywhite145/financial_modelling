{
 "cells": [
  {
   "cell_type": "code",
   "execution_count": 14,
   "id": "305c73d5-a570-4c17-a800-af82f92fc0a3",
   "metadata": {},
   "outputs": [],
   "source": [
    "import numpy_financial as npf\n",
    "import numpy as np"
   ]
  },
  {
   "cell_type": "markdown",
   "id": "b07c3f64-d8dc-4745-9e9f-0a8005901198",
   "metadata": {},
   "source": [
    "this is a markdown cell where text is nice and sexy "
   ]
  },
  {
   "cell_type": "code",
   "execution_count": 15,
   "id": "a3fb7a7a-b0a5-492b-8990-513e2e225bb9",
   "metadata": {},
   "outputs": [],
   "source": [
    "### hash keys for comments \n",
    "\n",
    "salary = 40000\n",
    "savings_rate = 0.25\n",
    "investment_rate = 0.05\n",
    "desired_cash = 1500000"
   ]
  },
  {
   "cell_type": "markdown",
   "id": "fc5a540c-3977-4d7d-b33f-c09e598d5e1c",
   "metadata": {},
   "source": [
    "### determining cash saved"
   ]
  },
  {
   "cell_type": "code",
   "execution_count": 16,
   "id": "cae349bc-5ff5-42b9-96df-6ee327259430",
   "metadata": {},
   "outputs": [
    {
     "data": {
      "text/plain": [
       "10000.0"
      ]
     },
     "execution_count": 16,
     "metadata": {},
     "output_type": "execute_result"
    }
   ],
   "source": [
    "annual_cash = salary * savings_rate\n",
    "annual_cash"
   ]
  },
  {
   "cell_type": "markdown",
   "id": "367b2ef9-7794-4468-bcbf-e79dd84120f1",
   "metadata": {},
   "source": [
    "### Years to Retirement "
   ]
  },
  {
   "cell_type": "code",
   "execution_count": 17,
   "id": "423ecbfc-a0b1-47cf-8d5f-b26af296912e",
   "metadata": {},
   "outputs": [],
   "source": [
    "years_to_retirement = npf.nper(investment_rate, -annual_cash, 0, desired_cash)  ###"
   ]
  },
  {
   "cell_type": "code",
   "execution_count": 18,
   "id": "c1076311-ddc9-4ccd-96cb-f995bb163d77",
   "metadata": {},
   "outputs": [
    {
     "name": "stdout",
     "output_type": "stream",
     "text": [
      "Martha has 43.86265551524957 years to retirement\n"
     ]
    }
   ],
   "source": [
    "print('Martha has', years_to_retirement, 'years to retirement')"
   ]
  },
  {
   "cell_type": "code",
   "execution_count": null,
   "id": "0ce5fc52-7785-4216-9897-bb7eacd7f78f",
   "metadata": {},
   "outputs": [],
   "source": []
  }
 ],
 "metadata": {
  "kernelspec": {
   "display_name": "Python 3",
   "language": "python",
   "name": "python3"
  },
  "language_info": {
   "codemirror_mode": {
    "name": "ipython",
    "version": 3
   },
   "file_extension": ".py",
   "mimetype": "text/x-python",
   "name": "python",
   "nbconvert_exporter": "python",
   "pygments_lexer": "ipython3",
   "version": "3.9.5"
  }
 },
 "nbformat": 4,
 "nbformat_minor": 5
}
