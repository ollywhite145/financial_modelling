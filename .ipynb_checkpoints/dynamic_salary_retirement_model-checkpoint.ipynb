{
 "cells": [
  {
   "cell_type": "markdown",
   "id": "6fa94853-230c-45ae-ab4b-aea1853ad453",
   "metadata": {},
   "source": [
    "### Complex Python Model"
   ]
  },
  {
   "cell_type": "code",
   "execution_count": 1,
   "id": "b619f184-0745-451d-9417-3fea95f661f5",
   "metadata": {},
   "outputs": [],
   "source": [
    "from dataclasses import dataclass    "
   ]
  },
  {
   "cell_type": "code",
   "execution_count": 2,
   "id": "29df05fa-f4b3-4af0-8094-641f7e1d5d63",
   "metadata": {},
   "outputs": [
    {
     "data": {
      "text/plain": [
       "ModelInputs(starting_salary=60000, promos_every_n_years=5, cost_of_living_raise=0.02, promo_raise=0.15, savings_rate=0.25, interest_rate=0.05, desired_cash=1500000)"
      ]
     },
     "execution_count": 2,
     "metadata": {},
     "output_type": "execute_result"
    }
   ],
   "source": [
    "@dataclass\n",
    "class ModelInputs:\n",
    "    starting_salary: int = 60000\n",
    "    promos_every_n_years: int = 5\n",
    "    cost_of_living_raise: float = 0.02\n",
    "    promo_raise: float = 0.15\n",
    "    savings_rate: float=0.25\n",
    "    interest_rate: float= 0.05\n",
    "    desired_cash: int = 1500000\n",
    "\n",
    "model_data = ModelInputs()\n",
    "model_data\n",
    "    "
   ]
  },
  {
   "cell_type": "markdown",
   "id": "42e5a2ca-362d-4495-87d3-bcdb014deeae",
   "metadata": {},
   "source": [
    "## Salaries"
   ]
  },
  {
   "cell_type": "code",
   "execution_count": 3,
   "id": "98aa5c51-9fe7-4e43-9a73-4caba4be101a",
   "metadata": {},
   "outputs": [
    {
     "data": {
      "text/plain": [
       "76181.5754208"
      ]
     },
     "execution_count": 3,
     "metadata": {},
     "output_type": "execute_result"
    }
   ],
   "source": [
    "\n",
    "\n",
    "def salary_at_year(data, year):\n",
    "    num_promos = int(year/data.promos_every_n_years)\n",
    "    \n",
    "    \n",
    "    salary_t = data.starting_salary * (1 + data.cost_of_living_raise)**year * (1+ data.promo_raise)**num_promos\n",
    "    return salary_t\n",
    "\n",
    "\n",
    "\n",
    "salary_at_year(model_data, 5)"
   ]
  },
  {
   "cell_type": "code",
   "execution_count": 4,
   "id": "0612d87f-7691-408b-8c19-cbea383db464",
   "metadata": {},
   "outputs": [
    {
     "name": "stdout",
     "output_type": "stream",
     "text": [
      "The salary at year 1 is 61200.0\n",
      "The salary at year 2 is 62424.0\n",
      "The salary at year 3 is 63672.48000000001\n",
      "The salary at year 4 is 64945.929599999996\n",
      "The salary at year 5 is 76181.5754208\n",
      "The salary at year 6 is 77705.206929216\n"
     ]
    }
   ],
   "source": [
    "for i in range(6):\n",
    "    year = i+1\n",
    "    salary = salary_at_year(model_data, year)\n",
    "    print('The salary at year', year,'is', salary)"
   ]
  },
  {
   "cell_type": "markdown",
   "id": "23a2f48f-121e-484f-82f7-2c98cfbf2603",
   "metadata": {},
   "source": [
    "## Wealth"
   ]
  },
  {
   "cell_type": "code",
   "execution_count": 5,
   "id": "c5ed3098-bb94-4cf3-8124-b6042a8c7efd",
   "metadata": {},
   "outputs": [
    {
     "data": {
      "text/plain": [
       "19045.3938552"
      ]
     },
     "execution_count": 5,
     "metadata": {},
     "output_type": "execute_result"
    }
   ],
   "source": [
    "def cash_saved_during_year(data,year):\n",
    "\n",
    "    salary = salary_at_year(data,year)\n",
    "    cash_saved = salary*data.savings_rate\n",
    "    return cash_saved\n",
    "\n",
    "\n",
    "cash_saved_during_year(model_data, 5)"
   ]
  },
  {
   "cell_type": "code",
   "execution_count": 6,
   "id": "1d8793b9-dcf2-404c-b6a8-115ded8d6176",
   "metadata": {},
   "outputs": [],
   "source": [
    "def wealth_at_year(data, year, prior_wealth):\n",
    "    cash_saved = cash_saved_during_year(data, year)\n",
    "    wealth = prior_wealth*(1+data.interest_rate) + cash_saved\n",
    "    return wealth"
   ]
  },
  {
   "cell_type": "code",
   "execution_count": 7,
   "id": "5485bf4e-bbb6-40ad-969e-e6d0decfaa55",
   "metadata": {},
   "outputs": [
    {
     "name": "stdout",
     "output_type": "stream",
     "text": [
      "the wealth at year 1 is 15300\n",
      "the wealth at year 2 is 31671\n",
      "the wealth at year 3 is 49172\n",
      "the wealth at year 4 is 67867\n",
      "the wealth at year 5 is 90306\n",
      "the wealth at year 6 is 114248\n"
     ]
    }
   ],
   "source": [
    "prior_wealth = 0\n",
    "\n",
    "for i in range(6):\n",
    "    year = i+1\n",
    "    wealth = wealth_at_year(model_data, year, prior_wealth)\n",
    "    print('the wealth at year', year, 'is',int(wealth))\n",
    "    \n",
    "    prior_wealth = wealth"
   ]
  },
  {
   "cell_type": "code",
   "execution_count": 8,
   "id": "8dbb734a-0246-46a9-a2cc-91725ba1520e",
   "metadata": {},
   "outputs": [],
   "source": [
    "### for comments"
   ]
  },
  {
   "cell_type": "markdown",
   "id": "8c037be5-a25a-4f23-827e-f215a0949d50",
   "metadata": {},
   "source": [
    "## Retirement "
   ]
  },
  {
   "cell_type": "code",
   "execution_count": 9,
   "id": "0174e9ff-1117-4c76-a615-11f4ef587dca",
   "metadata": {},
   "outputs": [],
   "source": [
    "def years_to_retirement(data):\n",
    "\n",
    "    wealth=0\n",
    "    prior_wealth = 0 \n",
    "    year = 0\n",
    "    print('Wealth over time')\n",
    "    while wealth < data.desired_cash:\n",
    "            year +=1\n",
    "            wealth = wealth_at_year(data, year, prior_wealth)\n",
    "            print('the wealth at year', year, 'is',int(wealth))\n",
    "            prior_wealth = wealth\n",
    "    \n",
    "    print('\\nRetirement:')  ###the backslash n means newline to tidy it up\n",
    "    print('it will take', year,'years to retire')\n",
    "    return year"
   ]
  },
  {
   "cell_type": "code",
   "execution_count": 12,
   "id": "9cbf3603-b2be-4d0d-a6e8-0fe1cbdfaade",
   "metadata": {},
   "outputs": [
    {
     "name": "stdout",
     "output_type": "stream",
     "text": [
      "Wealth over time\n",
      "the wealth at year 1 is 7650\n",
      "the wealth at year 2 is 15835\n",
      "the wealth at year 3 is 24586\n",
      "the wealth at year 4 is 33933\n",
      "the wealth at year 5 is 45153\n",
      "the wealth at year 6 is 57124\n",
      "the wealth at year 7 is 69887\n",
      "the wealth at year 8 is 83487\n",
      "the wealth at year 9 is 97969\n",
      "the wealth at year 10 is 114959\n",
      "the wealth at year 11 is 133039\n",
      "the wealth at year 12 is 152271\n",
      "the wealth at year 13 is 172715\n",
      "the wealth at year 14 is 194439\n",
      "the wealth at year 15 is 219512\n",
      "the wealth at year 16 is 246147\n",
      "the wealth at year 17 is 274426\n",
      "the wealth at year 18 is 304439\n",
      "the wealth at year 19 is 336278\n",
      "the wealth at year 20 is 372584\n",
      "the wealth at year 21 is 411095\n",
      "the wealth at year 22 is 451929\n",
      "the wealth at year 23 is 495210\n",
      "the wealth at year 24 is 541070\n",
      "the wealth at year 25 is 592872\n",
      "the wealth at year 26 is 647760\n",
      "the wealth at year 27 is 705896\n",
      "the wealth at year 28 is 767455\n",
      "the wealth at year 29 is 832616\n",
      "the wealth at year 30 is 905671\n",
      "the wealth at year 31 is 983006\n",
      "the wealth at year 32 is 1064849\n",
      "the wealth at year 33 is 1151439\n",
      "the wealth at year 34 is 1243024\n",
      "the wealth at year 35 is 1345074\n",
      "the wealth at year 36 is 1453023\n",
      "the wealth at year 37 is 1567185\n",
      "\n",
      "Retirement:\n",
      "it will take 37 years to retire\n"
     ]
    }
   ],
   "source": [
    "ytr = years_to_retirement(ModelInputs(starting_salary=30000))"
   ]
  },
  {
   "cell_type": "code",
   "execution_count": null,
   "id": "8267f4d4-125d-4713-bc21-1a3c53e49a1f",
   "metadata": {},
   "outputs": [],
   "source": []
  }
 ],
 "metadata": {
  "kernelspec": {
   "display_name": "Python 3",
   "language": "python",
   "name": "python3"
  },
  "language_info": {
   "codemirror_mode": {
    "name": "ipython",
    "version": 3
   },
   "file_extension": ".py",
   "mimetype": "text/x-python",
   "name": "python",
   "nbconvert_exporter": "python",
   "pygments_lexer": "ipython3",
   "version": "3.9.5"
  }
 },
 "nbformat": 4,
 "nbformat_minor": 5
}
